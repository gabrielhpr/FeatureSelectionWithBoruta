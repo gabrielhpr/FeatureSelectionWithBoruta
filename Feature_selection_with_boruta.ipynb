{
 "cells": [
  {
   "cell_type": "markdown",
   "metadata": {
    "heading_collapsed": true
   },
   "source": [
    "# IMPORTS"
   ]
  },
  {
   "cell_type": "code",
   "execution_count": 515,
   "metadata": {
    "ExecuteTime": {
     "end_time": "2021-02-19T22:32:57.148024Z",
     "start_time": "2021-02-19T22:32:57.122415Z"
    },
    "hidden": true
   },
   "outputs": [
    {
     "data": {
      "text/html": [
       "<style>.container { width:100% !important; }</style>"
      ],
      "text/plain": [
       "<IPython.core.display.HTML object>"
      ]
     },
     "metadata": {},
     "output_type": "display_data"
    },
    {
     "data": {
      "text/html": [
       "<style>h1 { font-size:23px !important; }</style>"
      ],
      "text/plain": [
       "<IPython.core.display.HTML object>"
      ]
     },
     "metadata": {},
     "output_type": "display_data"
    },
    {
     "data": {
      "text/html": [
       "<style>h2 { font-size:20px !important; }</style>"
      ],
      "text/plain": [
       "<IPython.core.display.HTML object>"
      ]
     },
     "metadata": {},
     "output_type": "display_data"
    },
    {
     "data": {
      "text/html": [
       "<style>h3 { font-size:17px !important; }</style>"
      ],
      "text/plain": [
       "<IPython.core.display.HTML object>"
      ]
     },
     "metadata": {},
     "output_type": "display_data"
    },
    {
     "data": {
      "text/html": [
       "<style>h4 { font-size:16px !important; }</style>"
      ],
      "text/plain": [
       "<IPython.core.display.HTML object>"
      ]
     },
     "metadata": {},
     "output_type": "display_data"
    },
    {
     "data": {
      "text/html": [
       "<style>p { font-size:16px !important; }</style>"
      ],
      "text/plain": [
       "<IPython.core.display.HTML object>"
      ]
     },
     "metadata": {},
     "output_type": "display_data"
    },
    {
     "data": {
      "text/html": [
       "<style>th { font-size:15px !important; }</style>"
      ],
      "text/plain": [
       "<IPython.core.display.HTML object>"
      ]
     },
     "metadata": {},
     "output_type": "display_data"
    },
    {
     "data": {
      "text/html": [
       "<style>td { font-size:15px !important; }</style>"
      ],
      "text/plain": [
       "<IPython.core.display.HTML object>"
      ]
     },
     "metadata": {},
     "output_type": "display_data"
    },
    {
     "data": {
      "text/html": [
       "<style>span { font-size:16px !important; }</style>"
      ],
      "text/plain": [
       "<IPython.core.display.HTML object>"
      ]
     },
     "metadata": {},
     "output_type": "display_data"
    }
   ],
   "source": [
    "import pandas as pd\n",
    "import seaborn as sns\n",
    "import numpy as np\n",
    "from sklearn.ensemble import RandomForestClassifier\n",
    "from scipy.stats import binom\n",
    "###--------- PANDAS - EXIBIR TODAS COLUNAS ----###\n",
    "\n",
    "pd.set_option('display.max_columns', None)\n",
    "\n",
    "\n",
    "###--------- ESTILIZAÇÃO DO NOTEBOOK ---------###\n",
    "\n",
    "from IPython.core.display import display, HTML\n",
    "\n",
    "# retira a margem do notebook\n",
    "display(HTML(\"<style>.container { width:100% !important; }</style>\"))\n",
    "\n",
    "# font do texto markdown\n",
    "display(HTML(\"<style>h1 { font-size:23px !important; }</style>\"))\n",
    "display(HTML(\"<style>h2 { font-size:20px !important; }</style>\"))\n",
    "display(HTML(\"<style>h3 { font-size:17px !important; }</style>\"))\n",
    "display(HTML(\"<style>h4 { font-size:16px !important; }</style>\"))\n",
    "display(HTML(\"<style>p { font-size:16px !important; }</style>\"))\n",
    "\n",
    "# tamanho da fonte da tabela\n",
    "display(HTML(\"<style>th { font-size:15px !important; }</style>\"))\n",
    "display(HTML(\"<style>td { font-size:15px !important; }</style>\"))\n",
    "\n",
    "# font do codigo \n",
    "display(HTML(\"<style>span { font-size:16px !important; }</style>\"))"
   ]
  },
  {
   "cell_type": "markdown",
   "metadata": {
    "heading_collapsed": true
   },
   "source": [
    "# Introdução"
   ]
  },
  {
   "cell_type": "markdown",
   "metadata": {
    "hidden": true
   },
   "source": [
    "Se você realizou uma boa coleta e limpeza de dados, e quer melhorar ainda mais a acurácia do seu modelo,<br>\n",
    "ou talvez reduzir o seu tempo de treinamento, a Seleção de Features é o caminho ideal para você. \n",
    "\n",
    "Por meio desse processo é possível selecionar as variáveis mais relevantes para o seu modelo, eliminando <br>\n",
    "as features que não agregam para a predição do problema.\n"
   ]
  },
  {
   "cell_type": "markdown",
   "metadata": {
    "heading_collapsed": true
   },
   "source": [
    "# Por que selecionar features ?"
   ]
  },
  {
   "cell_type": "markdown",
   "metadata": {
    "hidden": true
   },
   "source": [
    "**1-)** <b>Ganho de velocidade no treinamento do modelo</b>. Ao eliminar features não relevantes <br>\n",
    "ocorre uma redução de dimensionalidade do problema, reduzindo o tempo de treinamento.\n",
    "\n",
    "**2-)** <b>Melhora da performance do modelo</b>. Ao remover as features que não contribuem para a <br>\n",
    "predição do modelo, tornamos o nosso modelo mais simples e, consequentemente, reduzimos o ruído dos <br>\n",
    "nossos dados e a chance de ocorrer overfitting."
   ]
  },
  {
   "cell_type": "markdown",
   "metadata": {
    "ExecuteTime": {
     "end_time": "2021-02-19T18:33:31.576284Z",
     "start_time": "2021-02-19T18:33:31.561557Z"
    },
    "heading_collapsed": true
   },
   "source": [
    "# Seleção de Features vs Redução de Dimensionalidade"
   ]
  },
  {
   "cell_type": "code",
   "execution_count": null,
   "metadata": {
    "hidden": true
   },
   "outputs": [],
   "source": []
  },
  {
   "cell_type": "markdown",
   "metadata": {
    "heading_collapsed": true
   },
   "source": [
    "# Métodos de Seleção de Features"
   ]
  },
  {
   "cell_type": "markdown",
   "metadata": {
    "hidden": true
   },
   "source": [
    "Os principais métodos de seleção de Features se agrupam em 3 tipos: <b>Filter Methods</b>, <b>Wrapper Methods</b> e <b>Embedded Methods</b>. "
   ]
  },
  {
   "cell_type": "markdown",
   "metadata": {
    "hidden": true
   },
   "source": [
    "## 1-) Filter Methods"
   ]
  },
  {
   "cell_type": "code",
   "execution_count": null,
   "metadata": {
    "hidden": true
   },
   "outputs": [],
   "source": []
  },
  {
   "cell_type": "markdown",
   "metadata": {
    "ExecuteTime": {
     "end_time": "2021-02-19T18:25:29.496946Z",
     "start_time": "2021-02-19T18:25:29.493730Z"
    },
    "hidden": true
   },
   "source": [
    "## 2-) Wrapper Methods"
   ]
  },
  {
   "cell_type": "code",
   "execution_count": null,
   "metadata": {
    "hidden": true
   },
   "outputs": [],
   "source": []
  },
  {
   "cell_type": "markdown",
   "metadata": {
    "hidden": true
   },
   "source": [
    "## 3-) Embedded Methods"
   ]
  },
  {
   "cell_type": "code",
   "execution_count": null,
   "metadata": {
    "hidden": true
   },
   "outputs": [],
   "source": []
  },
  {
   "cell_type": "markdown",
   "metadata": {
    "ExecuteTime": {
     "end_time": "2021-02-19T18:32:52.080116Z",
     "start_time": "2021-02-19T18:32:52.070011Z"
    }
   },
   "source": [
    "# Algoritmo Boruta"
   ]
  },
  {
   "cell_type": "markdown",
   "metadata": {
    "ExecuteTime": {
     "end_time": "2021-02-19T18:37:53.076550Z",
     "start_time": "2021-02-19T18:37:53.071254Z"
    }
   },
   "source": [
    "O algoritmo Boruta é um Wrapper Method, que seleciona automaticamente as features mais relevantes <br>\n",
    "para o seu modelo. Uma grande dificuldade de outros métodos de Seleção de Features é a definição <br>\n",
    "de um limite para determinar qual feature é ou não relevante, esse algoritmo resolve isso para você.\n",
    "\n",
    "Para entender melhor o porquê desse algoritmo ser um ótimo selecionador de features relevantes, <br> \n",
    "vamos implementá-lo do zero. Para fins didáticos vamos criar um cenário hipotético, com dados fictícios."
   ]
  },
  {
   "cell_type": "markdown",
   "metadata": {
    "ExecuteTime": {
     "end_time": "2021-02-19T16:51:03.499390Z",
     "start_time": "2021-02-19T16:51:03.489179Z"
    }
   },
   "source": [
    "# Cenário Hipotético"
   ]
  },
  {
   "cell_type": "markdown",
   "metadata": {
    "ExecuteTime": {
     "end_time": "2021-02-19T16:50:26.629849Z",
     "start_time": "2021-02-19T16:50:26.620138Z"
    }
   },
   "source": [
    "Uma loja de acessórios para pets fez uma pesquisa com algumas pessoas para determinar quais <br>\n",
    "delas estariam interessadas nos produtos dessa loja.\n",
    "\n",
    "A partir da pesquisa foram obtidos os seguintes dados: \n",
    "\n",
    "**1-)** A quantidade de pets que a pessoa tem.\n",
    "\n",
    "**2-)** O salário.\n",
    "\n",
    "**3-)** A idade.\n",
    "\n",
    "**4-)** O peso.\n",
    "\n",
    "**5-)** A altura do pai.\n",
    "\n",
    "**6-)** Se a pessoa apresenta interesse em comprar um produto para seu pet."
   ]
  },
  {
   "cell_type": "markdown",
   "metadata": {
    "heading_collapsed": true
   },
   "source": [
    "## Intuição"
   ]
  },
  {
   "cell_type": "markdown",
   "metadata": {
    "hidden": true
   },
   "source": [
    "Seguindo a nossa intuição, há uma suspeita de que a <b>quantidade de pets</b> que a pessoa tem <br>\n",
    "é uma informação relevante para o modelo, e que a <b>altura do pai da pessoa</b> não tem valor <br> \n",
    "nenhum para a nossa predição.\n",
    "\n",
    "Vale lembrar que o nosso dataset contém apenas 5 features, mas o que aconteceria se tivéssemos <br>\n",
    "dezenas, senão centenas de variáveis para analisar ? Certamente perderíamos a capacidade de intuir <br>\n",
    "sobre todos os dados e surgiriam muitas dúvidas como:\n",
    "\n",
    "\n",
    "**1-)** Quais das features são relevantes para a modelagem do problema ?\n",
    "\n",
    "**2-)** Qual critério utilizar para selecionar as features mais relevantes ?"
   ]
  },
  {
   "cell_type": "markdown",
   "metadata": {
    "ExecuteTime": {
     "end_time": "2021-02-19T18:56:18.102154Z",
     "start_time": "2021-02-19T18:56:18.097393Z"
    },
    "hidden": true
   },
   "source": [
    "Vamos responder essas dúvidas com o algoritmo Boruta."
   ]
  },
  {
   "cell_type": "markdown",
   "metadata": {},
   "source": [
    "## Sobre os dados do problema"
   ]
  },
  {
   "cell_type": "markdown",
   "metadata": {},
   "source": [
    "O dataset criado apresenta 5 features, contendo as informações de 15 pessoas entrevistadas.\n",
    "\n",
    "A idade, o peso e a altura seguem o comportamento de uma distribuição normal e foram criadas <br>\n",
    "de modo a não influenciarem na variável resposta, já a quantidade de pets e a faixa salarial <br>\n",
    "foram construídas de modo a influenciar na variável target.\n",
    "\n",
    "Portanto, ao final do treinamento do Boruta é esperado que a quantidade de pets e a faixa <br>\n",
    "salarial sejam as features consideradas relevantes, e as demais descartadas."
   ]
  },
  {
   "cell_type": "markdown",
   "metadata": {},
   "source": [
    "### Detalhes acerca da criação do dataset"
   ]
  },
  {
   "cell_type": "code",
   "execution_count": 375,
   "metadata": {
    "ExecuteTime": {
     "end_time": "2021-02-19T20:50:42.308804Z",
     "start_time": "2021-02-19T20:50:42.280040Z"
    },
    "hide_input": false
   },
   "outputs": [],
   "source": [
    "# Vamos assumir que a idade, o peso e a altura da mãe estão normalmente distribuídos\n",
    "quant_pets = np.random.normal(1.5, 1, 15)\n",
    "faixa_salarial = np.random.normal(5000, 2000, 15)\n",
    "faixa_salarial_mean = np.mean( faixa_salarial )\n",
    "idade = np.random.normal(40, 12, 15)\n",
    "peso =  np.random.normal(80, 8, 15)\n",
    "altura_do_pai = np.random.normal(1.65, 0.07, 15)\n",
    "\n",
    "# Convertendo a idade e o peso para números inteiros\n",
    "quant_pets = quant_pets.astype(int)\n",
    "faixa_salarial = faixa_salarial.astype(int)\n",
    "idade = idade.astype(int)\n",
    "peso = peso.astype(int)\n",
    "\n",
    "# Arredondando para duas casas decimais\n",
    "altura_do_pai = np.round( altura_do_pai, 2 )\n",
    "\n",
    "x = pd.DataFrame({\n",
    "                    'quant_pets': quant_pets,\n",
    "                    'faixa_salarial': faixa_salarial,\n",
    "                    'idade': idade,\n",
    "                    'peso': peso,\n",
    "                    'altura_do_pai': altura_do_pai,\n",
    "    })\n",
    "\n",
    "y = np.zeros((15,)) + 1\n",
    "y = y * np.array( x['quant_pets'] )\n",
    "\n",
    "y = pd.Series(y, name='interesse')\n",
    "y = y.apply(lambda x: 0 if x==0 else 1)\n",
    "\n",
    "drop_x = x['faixa_salarial'].apply(lambda x: 0 if x < faixa_salarial_mean else 1)\n",
    "y = y * drop_x"
   ]
  },
  {
   "cell_type": "markdown",
   "metadata": {},
   "source": [
    "### Conjunto de Features"
   ]
  },
  {
   "cell_type": "code",
   "execution_count": 376,
   "metadata": {
    "ExecuteTime": {
     "end_time": "2021-02-19T20:50:43.202814Z",
     "start_time": "2021-02-19T20:50:43.173825Z"
    }
   },
   "outputs": [
    {
     "data": {
      "text/html": [
       "<div>\n",
       "<style scoped>\n",
       "    .dataframe tbody tr th:only-of-type {\n",
       "        vertical-align: middle;\n",
       "    }\n",
       "\n",
       "    .dataframe tbody tr th {\n",
       "        vertical-align: top;\n",
       "    }\n",
       "\n",
       "    .dataframe thead th {\n",
       "        text-align: right;\n",
       "    }\n",
       "</style>\n",
       "<table border=\"1\" class=\"dataframe\">\n",
       "  <thead>\n",
       "    <tr style=\"text-align: right;\">\n",
       "      <th></th>\n",
       "      <th>quant_pets</th>\n",
       "      <th>faixa_salarial</th>\n",
       "      <th>idade</th>\n",
       "      <th>peso</th>\n",
       "      <th>altura_do_pai</th>\n",
       "    </tr>\n",
       "  </thead>\n",
       "  <tbody>\n",
       "    <tr>\n",
       "      <th>0</th>\n",
       "      <td>1</td>\n",
       "      <td>9267</td>\n",
       "      <td>51</td>\n",
       "      <td>94</td>\n",
       "      <td>1.61</td>\n",
       "    </tr>\n",
       "    <tr>\n",
       "      <th>1</th>\n",
       "      <td>0</td>\n",
       "      <td>6639</td>\n",
       "      <td>40</td>\n",
       "      <td>75</td>\n",
       "      <td>1.61</td>\n",
       "    </tr>\n",
       "    <tr>\n",
       "      <th>2</th>\n",
       "      <td>1</td>\n",
       "      <td>4167</td>\n",
       "      <td>25</td>\n",
       "      <td>85</td>\n",
       "      <td>1.69</td>\n",
       "    </tr>\n",
       "    <tr>\n",
       "      <th>3</th>\n",
       "      <td>0</td>\n",
       "      <td>5222</td>\n",
       "      <td>48</td>\n",
       "      <td>83</td>\n",
       "      <td>1.55</td>\n",
       "    </tr>\n",
       "    <tr>\n",
       "      <th>4</th>\n",
       "      <td>2</td>\n",
       "      <td>7151</td>\n",
       "      <td>73</td>\n",
       "      <td>99</td>\n",
       "      <td>1.75</td>\n",
       "    </tr>\n",
       "    <tr>\n",
       "      <th>5</th>\n",
       "      <td>1</td>\n",
       "      <td>4857</td>\n",
       "      <td>55</td>\n",
       "      <td>76</td>\n",
       "      <td>1.78</td>\n",
       "    </tr>\n",
       "    <tr>\n",
       "      <th>6</th>\n",
       "      <td>2</td>\n",
       "      <td>6109</td>\n",
       "      <td>32</td>\n",
       "      <td>84</td>\n",
       "      <td>1.69</td>\n",
       "    </tr>\n",
       "    <tr>\n",
       "      <th>7</th>\n",
       "      <td>1</td>\n",
       "      <td>6261</td>\n",
       "      <td>47</td>\n",
       "      <td>73</td>\n",
       "      <td>1.66</td>\n",
       "    </tr>\n",
       "    <tr>\n",
       "      <th>8</th>\n",
       "      <td>1</td>\n",
       "      <td>4204</td>\n",
       "      <td>33</td>\n",
       "      <td>96</td>\n",
       "      <td>1.61</td>\n",
       "    </tr>\n",
       "    <tr>\n",
       "      <th>9</th>\n",
       "      <td>0</td>\n",
       "      <td>4805</td>\n",
       "      <td>37</td>\n",
       "      <td>79</td>\n",
       "      <td>1.66</td>\n",
       "    </tr>\n",
       "    <tr>\n",
       "      <th>10</th>\n",
       "      <td>0</td>\n",
       "      <td>4958</td>\n",
       "      <td>46</td>\n",
       "      <td>78</td>\n",
       "      <td>1.59</td>\n",
       "    </tr>\n",
       "    <tr>\n",
       "      <th>11</th>\n",
       "      <td>1</td>\n",
       "      <td>8330</td>\n",
       "      <td>38</td>\n",
       "      <td>80</td>\n",
       "      <td>1.61</td>\n",
       "    </tr>\n",
       "    <tr>\n",
       "      <th>12</th>\n",
       "      <td>1</td>\n",
       "      <td>8199</td>\n",
       "      <td>48</td>\n",
       "      <td>83</td>\n",
       "      <td>1.74</td>\n",
       "    </tr>\n",
       "    <tr>\n",
       "      <th>13</th>\n",
       "      <td>1</td>\n",
       "      <td>5282</td>\n",
       "      <td>60</td>\n",
       "      <td>66</td>\n",
       "      <td>1.52</td>\n",
       "    </tr>\n",
       "    <tr>\n",
       "      <th>14</th>\n",
       "      <td>1</td>\n",
       "      <td>5515</td>\n",
       "      <td>27</td>\n",
       "      <td>80</td>\n",
       "      <td>1.73</td>\n",
       "    </tr>\n",
       "  </tbody>\n",
       "</table>\n",
       "</div>"
      ],
      "text/plain": [
       "    quant_pets  faixa_salarial  idade  peso  altura_do_pai\n",
       "0            1            9267     51    94           1.61\n",
       "1            0            6639     40    75           1.61\n",
       "2            1            4167     25    85           1.69\n",
       "3            0            5222     48    83           1.55\n",
       "4            2            7151     73    99           1.75\n",
       "5            1            4857     55    76           1.78\n",
       "6            2            6109     32    84           1.69\n",
       "7            1            6261     47    73           1.66\n",
       "8            1            4204     33    96           1.61\n",
       "9            0            4805     37    79           1.66\n",
       "10           0            4958     46    78           1.59\n",
       "11           1            8330     38    80           1.61\n",
       "12           1            8199     48    83           1.74\n",
       "13           1            5282     60    66           1.52\n",
       "14           1            5515     27    80           1.73"
      ]
     },
     "execution_count": 376,
     "metadata": {},
     "output_type": "execute_result"
    }
   ],
   "source": [
    "x"
   ]
  },
  {
   "cell_type": "markdown",
   "metadata": {},
   "source": [
    "### Variável Resposta"
   ]
  },
  {
   "cell_type": "code",
   "execution_count": 377,
   "metadata": {
    "ExecuteTime": {
     "end_time": "2021-02-19T20:50:44.182530Z",
     "start_time": "2021-02-19T20:50:44.166770Z"
    }
   },
   "outputs": [
    {
     "data": {
      "text/plain": [
       "0     1\n",
       "1     0\n",
       "2     0\n",
       "3     0\n",
       "4     1\n",
       "5     0\n",
       "6     1\n",
       "7     1\n",
       "8     0\n",
       "9     0\n",
       "10    0\n",
       "11    1\n",
       "12    1\n",
       "13    0\n",
       "14    0\n",
       "dtype: int64"
      ]
     },
     "execution_count": 377,
     "metadata": {},
     "output_type": "execute_result"
    }
   ],
   "source": [
    "y"
   ]
  },
  {
   "cell_type": "markdown",
   "metadata": {},
   "source": [
    "# Algoritmo boruta Implementação"
   ]
  },
  {
   "cell_type": "markdown",
   "metadata": {},
   "source": [
    "O algoritmo apresenta 10 passos."
   ]
  },
  {
   "cell_type": "markdown",
   "metadata": {},
   "source": [
    "## 1-) Criação de shadow features"
   ]
  },
  {
   "cell_type": "markdown",
   "metadata": {},
   "source": [
    "A partir do dataset inicial, criamos uma cópia para cada feature e a renomeamos com a palavra shadow."
   ]
  },
  {
   "cell_type": "code",
   "execution_count": 454,
   "metadata": {
    "ExecuteTime": {
     "end_time": "2021-02-19T22:01:33.973115Z",
     "start_time": "2021-02-19T22:01:33.962323Z"
    }
   },
   "outputs": [
    {
     "name": "stdout",
     "output_type": "stream",
     "text": [
      "5\n"
     ]
    }
   ],
   "source": [
    "num_of_features = x.shape[1]\n",
    "x_shadow = x.copy()\n",
    "x_shadow.columns = ['shadow_' + col_name for col_name in x.columns]"
   ]
  },
  {
   "cell_type": "markdown",
   "metadata": {},
   "source": [
    "## 2-) Embaralhamento das shadow features"
   ]
  },
  {
   "cell_type": "markdown",
   "metadata": {
    "ExecuteTime": {
     "end_time": "2021-02-19T20:47:33.797509Z",
     "start_time": "2021-02-19T20:47:33.792349Z"
    }
   },
   "source": [
    "Em cada shadow feature, realizamos um embaralhamento dos seus dados. Isso é feito para remover a correlação\n",
    "entre a shadow feature e a variável resposta. "
   ]
  },
  {
   "cell_type": "code",
   "execution_count": 402,
   "metadata": {
    "ExecuteTime": {
     "end_time": "2021-02-19T21:36:49.982680Z",
     "start_time": "2021-02-19T21:36:49.964711Z"
    }
   },
   "outputs": [],
   "source": [
    "np.random.seed(21)\n",
    "x_shadow = x_shadow.apply( lambda x: np.random.permutation(x) )\n",
    "x_shadow = x_shadow.reset_index()\n",
    "x_shadow.drop('index', axis=1, inplace=True)"
   ]
  },
  {
   "cell_type": "markdown",
   "metadata": {
    "ExecuteTime": {
     "end_time": "2021-02-19T20:57:30.591901Z",
     "start_time": "2021-02-19T20:57:30.576198Z"
    }
   },
   "source": [
    "### Juntamos as features iniciais com as shadow features"
   ]
  },
  {
   "cell_type": "code",
   "execution_count": 411,
   "metadata": {
    "ExecuteTime": {
     "end_time": "2021-02-19T21:41:28.874824Z",
     "start_time": "2021-02-19T21:41:28.856446Z"
    }
   },
   "outputs": [
    {
     "data": {
      "text/plain": [
       "Index(['quant_pets', 'faixa_salarial', 'idade', 'peso', 'altura_do_pai',\n",
       "       'shadow_quant_pets', 'shadow_faixa_salarial', 'shadow_idade',\n",
       "       'shadow_peso', 'shadow_altura_do_pai'],\n",
       "      dtype='object')"
      ]
     },
     "execution_count": 411,
     "metadata": {},
     "output_type": "execute_result"
    }
   ],
   "source": [
    "x_merged = pd.concat( [x, x_shadow], axis=1 )\n",
    "x_merged.columns"
   ]
  },
  {
   "cell_type": "markdown",
   "metadata": {},
   "source": [
    "## 3-) Treinamento do modelo com o novo conjunto de dados (features originais + shadow features)"
   ]
  },
  {
   "cell_type": "markdown",
   "metadata": {},
   "source": [
    "Será usado o algoritmo Random Forest para treinar o modelo, pois este algoritmo calcula <br>\n",
    "a importância das features durante o seu treinamento, esse cálculo é baseado no método de Gini.\n"
   ]
  },
  {
   "cell_type": "code",
   "execution_count": 413,
   "metadata": {
    "ExecuteTime": {
     "end_time": "2021-02-19T21:41:44.871462Z",
     "start_time": "2021-02-19T21:41:44.701001Z"
    }
   },
   "outputs": [
    {
     "data": {
      "text/plain": [
       "RandomForestClassifier(max_depth=3, random_state=42)"
      ]
     },
     "execution_count": 413,
     "metadata": {},
     "output_type": "execute_result"
    }
   ],
   "source": [
    "rf = RandomForestClassifier(random_state=42, max_depth=3)\n",
    "rf.fit( x_merged, y )"
   ]
  },
  {
   "cell_type": "code",
   "execution_count": 406,
   "metadata": {
    "ExecuteTime": {
     "end_time": "2021-02-19T21:38:42.075549Z",
     "start_time": "2021-02-19T21:38:42.021361Z"
    }
   },
   "outputs": [
    {
     "data": {
      "text/plain": [
       "array([0.10343029, 0.35391345, 0.06762231, 0.04514903, 0.060671  ,\n",
       "       0.03689565, 0.12619728, 0.05067433, 0.09926615, 0.05618051])"
      ]
     },
     "execution_count": 406,
     "metadata": {},
     "output_type": "execute_result"
    }
   ],
   "source": [
    "rf.feature_importances_"
   ]
  },
  {
   "cell_type": "code",
   "execution_count": 488,
   "metadata": {
    "ExecuteTime": {
     "end_time": "2021-02-19T22:14:35.687859Z",
     "start_time": "2021-02-19T22:14:35.654012Z"
    }
   },
   "outputs": [],
   "source": [
    "importance_table = pd.DataFrame([rf.feature_importances_], columns=x_merged.columns)"
   ]
  },
  {
   "cell_type": "markdown",
   "metadata": {},
   "source": [
    "### Vamos obter a maior importância dentre as shadow features "
   ]
  },
  {
   "cell_type": "code",
   "execution_count": 513,
   "metadata": {
    "ExecuteTime": {
     "end_time": "2021-02-19T22:25:08.885475Z",
     "start_time": "2021-02-19T22:25:08.859459Z"
    }
   },
   "outputs": [
    {
     "name": "stdout",
     "output_type": "stream",
     "text": [
      "O maior valor de importância dado a uma shadow feature foi: 0.13\n"
     ]
    }
   ],
   "source": [
    "imp_feature_list = rf.feature_importances_\n",
    "imp_original_feature_list = imp_feature_list[:len(x.columns)]\n",
    "imp_shadow_feature_list = imp_feature_list[len(x.columns):]\n",
    "print('O maior valor de importância dado a uma shadow feature foi: ' + str(np.round( imp_shadow_feature_list.max(), 2) ))"
   ]
  },
  {
   "cell_type": "markdown",
   "metadata": {},
   "source": [
    "## 4-) Avaliação da importância das features originais com as shadow features"
   ]
  },
  {
   "cell_type": "markdown",
   "metadata": {},
   "source": [
    "Se a feature original apresentar importância maior que a maior importância das shadow features, ela teve um sucesso.\n",
    "\n",
    "Caso contrário, ela teve um fracasso."
   ]
  },
  {
   "cell_type": "code",
   "execution_count": 511,
   "metadata": {
    "ExecuteTime": {
     "end_time": "2021-02-19T22:23:28.581172Z",
     "start_time": "2021-02-19T22:23:28.565756Z"
    }
   },
   "outputs": [
    {
     "data": {
      "text/plain": [
       "array([0, 1, 0, 0, 0])"
      ]
     },
     "execution_count": 511,
     "metadata": {},
     "output_type": "execute_result"
    }
   ],
   "source": [
    "sucess_table = ( imp_original_feature_list > imp_shadow_feature_list.max() ).astype(int)\n",
    "sucess_table"
   ]
  },
  {
   "cell_type": "markdown",
   "metadata": {},
   "source": [
    "## 5-) Reembaralhamento das shadow features e repetição dos processos 3 e 4"
   ]
  },
  {
   "cell_type": "markdown",
   "metadata": {
    "ExecuteTime": {
     "end_time": "2021-02-19T22:28:42.306246Z",
     "start_time": "2021-02-19T22:28:42.300114Z"
    }
   },
   "source": [
    "Para obter uma melhor precisão acerca da importância fornecida pelo algoritmo Random Forest,<br>\n",
    "repetimos o processo por 10 vezes, sempre marcando os pontos."
   ]
  },
  {
   "cell_type": "markdown",
   "metadata": {},
   "source": [
    "## Algoritmo Completo"
   ]
  },
  {
   "cell_type": "markdown",
   "metadata": {},
   "source": [
    "# Decisão de manter ou excluir as features"
   ]
  },
  {
   "cell_type": "markdown",
   "metadata": {},
   "source": [
    "Após o fim do treinamento,"
   ]
  },
  {
   "cell_type": "code",
   "execution_count": null,
   "metadata": {},
   "outputs": [],
   "source": []
  },
  {
   "cell_type": "markdown",
   "metadata": {},
   "source": [
    "# Bibliografia"
   ]
  },
  {
   "cell_type": "markdown",
   "metadata": {},
   "source": [
    " An introduction to feature selection - https://machinelearningmastery.com/an-introduction-to-feature-selection/"
   ]
  },
  {
   "cell_type": "code",
   "execution_count": null,
   "metadata": {},
   "outputs": [],
   "source": []
  },
  {
   "cell_type": "code",
   "execution_count": null,
   "metadata": {},
   "outputs": [],
   "source": []
  },
  {
   "cell_type": "code",
   "execution_count": null,
   "metadata": {},
   "outputs": [],
   "source": []
  },
  {
   "cell_type": "code",
   "execution_count": null,
   "metadata": {},
   "outputs": [],
   "source": []
  },
  {
   "cell_type": "code",
   "execution_count": null,
   "metadata": {},
   "outputs": [],
   "source": []
  }
 ],
 "metadata": {
  "kernelspec": {
   "display_name": "Python 3",
   "language": "python",
   "name": "python3"
  },
  "language_info": {
   "codemirror_mode": {
    "name": "ipython",
    "version": 3
   },
   "file_extension": ".py",
   "mimetype": "text/x-python",
   "name": "python",
   "nbconvert_exporter": "python",
   "pygments_lexer": "ipython3",
   "version": "3.6.9"
  }
 },
 "nbformat": 4,
 "nbformat_minor": 4
}
