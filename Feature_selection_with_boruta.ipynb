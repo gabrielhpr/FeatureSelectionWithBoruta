{
 "cells": [
  {
   "cell_type": "markdown",
   "metadata": {
    "heading_collapsed": true
   },
   "source": [
    "# IMPORTS"
   ]
  },
  {
   "cell_type": "code",
   "execution_count": 559,
   "metadata": {
    "ExecuteTime": {
     "end_time": "2021-02-20T00:41:06.528786Z",
     "start_time": "2021-02-20T00:41:06.468602Z"
    },
    "hidden": true
   },
   "outputs": [
    {
     "data": {
      "text/html": [
       "<style>.container { width:100% !important; }</style>"
      ],
      "text/plain": [
       "<IPython.core.display.HTML object>"
      ]
     },
     "metadata": {},
     "output_type": "display_data"
    },
    {
     "data": {
      "text/html": [
       "<style>h1 { font-size:23px !important; }</style>"
      ],
      "text/plain": [
       "<IPython.core.display.HTML object>"
      ]
     },
     "metadata": {},
     "output_type": "display_data"
    },
    {
     "data": {
      "text/html": [
       "<style>h2 { font-size:20px !important; }</style>"
      ],
      "text/plain": [
       "<IPython.core.display.HTML object>"
      ]
     },
     "metadata": {},
     "output_type": "display_data"
    },
    {
     "data": {
      "text/html": [
       "<style>h3 { font-size:17px !important; }</style>"
      ],
      "text/plain": [
       "<IPython.core.display.HTML object>"
      ]
     },
     "metadata": {},
     "output_type": "display_data"
    },
    {
     "data": {
      "text/html": [
       "<style>h4 { font-size:16px !important; }</style>"
      ],
      "text/plain": [
       "<IPython.core.display.HTML object>"
      ]
     },
     "metadata": {},
     "output_type": "display_data"
    },
    {
     "data": {
      "text/html": [
       "<style>p { font-size:16px !important; }</style>"
      ],
      "text/plain": [
       "<IPython.core.display.HTML object>"
      ]
     },
     "metadata": {},
     "output_type": "display_data"
    },
    {
     "data": {
      "text/html": [
       "<style>th { font-size:15px !important; }</style>"
      ],
      "text/plain": [
       "<IPython.core.display.HTML object>"
      ]
     },
     "metadata": {},
     "output_type": "display_data"
    },
    {
     "data": {
      "text/html": [
       "<style>td { font-size:15px !important; }</style>"
      ],
      "text/plain": [
       "<IPython.core.display.HTML object>"
      ]
     },
     "metadata": {},
     "output_type": "display_data"
    },
    {
     "data": {
      "text/html": [
       "<style>span { font-size:16px !important; }</style>"
      ],
      "text/plain": [
       "<IPython.core.display.HTML object>"
      ]
     },
     "metadata": {},
     "output_type": "display_data"
    }
   ],
   "source": [
    "import pandas as pd\n",
    "import seaborn as sns\n",
    "import matplotlib.pyplot as plt\n",
    "import numpy as np\n",
    "from sklearn.ensemble import RandomForestClassifier\n",
    "from scipy.stats import binom\n",
    "\n",
    "import warnings\n",
    "warnings.filterwarnings('ignore')\n",
    "\n",
    "###--------- PANDAS - EXIBIR TODAS COLUNAS ----###\n",
    "\n",
    "pd.set_option('display.max_columns', None)\n",
    "\n",
    "\n",
    "###--------- ESTILIZAÇÃO DO NOTEBOOK ---------###\n",
    "\n",
    "from IPython.core.display import display, HTML\n",
    "\n",
    "# retira a margem do notebook\n",
    "display(HTML(\"<style>.container { width:100% !important; }</style>\"))\n",
    "\n",
    "# font do texto markdown\n",
    "display(HTML(\"<style>h1 { font-size:23px !important; }</style>\"))\n",
    "display(HTML(\"<style>h2 { font-size:20px !important; }</style>\"))\n",
    "display(HTML(\"<style>h3 { font-size:17px !important; }</style>\"))\n",
    "display(HTML(\"<style>h4 { font-size:16px !important; }</style>\"))\n",
    "display(HTML(\"<style>p { font-size:16px !important; }</style>\"))\n",
    "\n",
    "# tamanho da fonte da tabela\n",
    "display(HTML(\"<style>th { font-size:15px !important; }</style>\"))\n",
    "display(HTML(\"<style>td { font-size:15px !important; }</style>\"))\n",
    "\n",
    "# font do codigo \n",
    "display(HTML(\"<style>span { font-size:16px !important; }</style>\"))"
   ]
  },
  {
   "cell_type": "markdown",
   "metadata": {},
   "source": [
    "# Introdução"
   ]
  },
  {
   "cell_type": "markdown",
   "metadata": {},
   "source": [
    "Se você realizou uma boa coleta e limpeza de dados, e quer melhorar ainda mais a acurácia do seu modelo,<br>\n",
    "ou talvez reduzir o seu tempo de treinamento, a Seleção de Features é o caminho ideal para você. \n",
    "\n",
    "Por meio desse processo é possível selecionar as variáveis mais relevantes para o seu modelo, eliminando <br>\n",
    "as features que não agregam para a predição do problema.\n"
   ]
  },
  {
   "cell_type": "markdown",
   "metadata": {},
   "source": [
    "# Por que selecionar features ?"
   ]
  },
  {
   "cell_type": "markdown",
   "metadata": {},
   "source": [
    "**1-)** <b>Ganho de velocidade no treinamento do modelo</b>. Ao eliminar features não relevantes <br>\n",
    "ocorre uma redução de dimensionalidade do problema, reduzindo o tempo de treinamento.\n",
    "\n",
    "**2-)** <b>Melhora da performance do modelo</b>. Ao remover as features que não contribuem para a <br>\n",
    "predição do modelo, tornamos o nosso modelo mais simples e, consequentemente, reduzimos o ruído dos <br>\n",
    "nossos dados e a chance de ocorrer overfitting."
   ]
  },
  {
   "cell_type": "markdown",
   "metadata": {
    "ExecuteTime": {
     "end_time": "2021-02-19T18:33:31.576284Z",
     "start_time": "2021-02-19T18:33:31.561557Z"
    }
   },
   "source": [
    "# Seleção de Features vs Redução de Dimensionalidade"
   ]
  },
  {
   "cell_type": "code",
   "execution_count": null,
   "metadata": {},
   "outputs": [],
   "source": []
  },
  {
   "cell_type": "markdown",
   "metadata": {},
   "source": [
    "# Métodos de Seleção de Features"
   ]
  },
  {
   "cell_type": "markdown",
   "metadata": {},
   "source": [
    "Os principais métodos de seleção de Features se agrupam em 3 tipos: <b>Filter Methods</b>, <b>Wrapper Methods</b> e <b>Embedded Methods</b>. "
   ]
  },
  {
   "cell_type": "markdown",
   "metadata": {},
   "source": [
    "## 1-) Filter Methods"
   ]
  },
  {
   "cell_type": "code",
   "execution_count": null,
   "metadata": {},
   "outputs": [],
   "source": []
  },
  {
   "cell_type": "markdown",
   "metadata": {
    "ExecuteTime": {
     "end_time": "2021-02-19T18:25:29.496946Z",
     "start_time": "2021-02-19T18:25:29.493730Z"
    }
   },
   "source": [
    "## 2-) Wrapper Methods"
   ]
  },
  {
   "cell_type": "code",
   "execution_count": null,
   "metadata": {},
   "outputs": [],
   "source": []
  },
  {
   "cell_type": "markdown",
   "metadata": {},
   "source": [
    "## 3-) Embedded Methods"
   ]
  },
  {
   "cell_type": "code",
   "execution_count": null,
   "metadata": {},
   "outputs": [],
   "source": []
  },
  {
   "cell_type": "markdown",
   "metadata": {
    "ExecuteTime": {
     "end_time": "2021-02-19T18:32:52.080116Z",
     "start_time": "2021-02-19T18:32:52.070011Z"
    }
   },
   "source": [
    "# Algoritmo Boruta"
   ]
  },
  {
   "cell_type": "markdown",
   "metadata": {
    "ExecuteTime": {
     "end_time": "2021-02-19T18:37:53.076550Z",
     "start_time": "2021-02-19T18:37:53.071254Z"
    }
   },
   "source": [
    "O algoritmo Boruta é um Wrapper Method, que seleciona automaticamente as features mais relevantes <br>\n",
    "para o seu modelo. Uma grande dificuldade de outros métodos de Seleção de Features é a definição <br>\n",
    "de um limite para determinar qual feature é ou não relevante, esse algoritmo resolve isso para você.\n",
    "\n",
    "Para entender melhor o porquê desse algoritmo ser um ótimo selecionador de features relevantes, <br> \n",
    "vamos implementá-lo do zero. Para fins didáticos vamos criar um cenário hipotético, com dados fictícios."
   ]
  },
  {
   "cell_type": "markdown",
   "metadata": {
    "ExecuteTime": {
     "end_time": "2021-02-19T16:51:03.499390Z",
     "start_time": "2021-02-19T16:51:03.489179Z"
    }
   },
   "source": [
    "# Cenário Hipotético"
   ]
  },
  {
   "cell_type": "markdown",
   "metadata": {
    "ExecuteTime": {
     "end_time": "2021-02-19T16:50:26.629849Z",
     "start_time": "2021-02-19T16:50:26.620138Z"
    }
   },
   "source": [
    "Uma loja de acessórios para pets fez uma pesquisa com algumas pessoas para determinar quais <br>\n",
    "delas estariam interessadas nos produtos dessa loja.\n",
    "\n",
    "A partir da pesquisa foram obtidos os seguintes dados: \n",
    "\n",
    "**1-)** A quantidade de pets que a pessoa tem.\n",
    "\n",
    "**2-)** O salário.\n",
    "\n",
    "**3-)** A idade.\n",
    "\n",
    "**4-)** O peso.\n",
    "\n",
    "**5-)** A altura do pai.\n",
    "\n",
    "**6-)** Se a pessoa apresenta interesse em comprar um produto para seu pet."
   ]
  },
  {
   "cell_type": "markdown",
   "metadata": {
    "heading_collapsed": true
   },
   "source": [
    "## Intuição"
   ]
  },
  {
   "cell_type": "markdown",
   "metadata": {
    "hidden": true
   },
   "source": [
    "Seguindo a nossa intuição, há uma suspeita de que a <b>quantidade de pets</b> que a pessoa tem <br>\n",
    "é uma informação relevante para o modelo, e que a <b>altura do pai da pessoa</b> não tem valor <br> \n",
    "nenhum para a nossa predição.\n",
    "\n",
    "Vale lembrar que o nosso dataset contém apenas 5 features, mas o que aconteceria se tivéssemos <br>\n",
    "dezenas, senão centenas de variáveis para analisar ? Certamente perderíamos a capacidade de intuir <br>\n",
    "sobre todos os dados e surgiriam muitas dúvidas como:\n",
    "\n",
    "\n",
    "**1-)** Quais das features são relevantes para a modelagem do problema ?\n",
    "\n",
    "**2-)** Qual critério utilizar para selecionar as features mais relevantes ?"
   ]
  },
  {
   "cell_type": "markdown",
   "metadata": {
    "ExecuteTime": {
     "end_time": "2021-02-19T18:56:18.102154Z",
     "start_time": "2021-02-19T18:56:18.097393Z"
    },
    "hidden": true
   },
   "source": [
    "Vamos responder essas dúvidas com o algoritmo Boruta."
   ]
  },
  {
   "cell_type": "markdown",
   "metadata": {},
   "source": [
    "## Sobre os dados do problema"
   ]
  },
  {
   "cell_type": "markdown",
   "metadata": {},
   "source": [
    "O dataset criado apresenta 5 features, contendo as informações de 15 pessoas entrevistadas.\n",
    "\n",
    "A idade, o peso e a altura seguem o comportamento de uma distribuição normal e foram criadas <br>\n",
    "de modo a não influenciarem na variável resposta, já a quantidade de pets e a faixa salarial <br>\n",
    "foram construídas de modo a influenciar na variável target.\n",
    "\n",
    "Portanto, ao final do treinamento do Boruta é esperado que a quantidade de pets e a faixa <br>\n",
    "salarial sejam as features consideradas relevantes, e as demais descartadas."
   ]
  },
  {
   "cell_type": "markdown",
   "metadata": {
    "heading_collapsed": true
   },
   "source": [
    "### Detalhes acerca da criação do dataset"
   ]
  },
  {
   "cell_type": "code",
   "execution_count": 853,
   "metadata": {
    "ExecuteTime": {
     "end_time": "2021-02-20T03:27:05.322168Z",
     "start_time": "2021-02-20T03:27:05.292590Z"
    },
    "hidden": true,
    "hide_input": false
   },
   "outputs": [
    {
     "data": {
      "text/plain": [
       "\"\\nprint(y)\\n\\ndrop_quant_pets = x['quant_pets'].apply(lambda x: 0 if x < x['quant_pets'].mean() else 1)\\n\\n\\ny_mean = y.mean()\\nprint(y)\\ny_mean\\ny = pd.Series(y, name='interesse')\\ny = y.apply(lambda x: 0 if x < y_mean else 1)\\n\""
      ]
     },
     "execution_count": 853,
     "metadata": {},
     "output_type": "execute_result"
    }
   ],
   "source": [
    "# Vamos assumir que a idade, o peso e a altura da mãe estão normalmente distribuídos\n",
    "quant_pets = np.array([0,0,0,0,0,1,1,1,1,1,2,1,2,1,2])\n",
    "faixa_salarial = np.array([1000,2000,2500,2600,3000,3001,4001,4001,4001,4601,4502,6071,5002,3001,4002])\n",
    "faixa_salarial_mean = faixa_salarial.mean()\n",
    "#y = np.array([0,0,0,1,1,0,0,0,1,1,0,0,0,1,1])\n",
    "idade = np.random.normal(40, 12, 15)\n",
    "peso =  np.random.normal(80, 8, 15)\n",
    "altura_do_pai = np.random.normal(1.65, 0.1, 15)\n",
    "\n",
    "# Convertendo a idade e o peso para números inteiros\n",
    "quant_pets = quant_pets.astype(int)\n",
    "faixa_salarial = faixa_salarial.astype(int)\n",
    "idade = idade.astype(int)\n",
    "peso = peso.astype(int)\n",
    "\n",
    "# Arredondando para duas casas decimais\n",
    "altura_do_pai = np.round( altura_do_pai, 2 )\n",
    "\n",
    "x = pd.DataFrame({\n",
    "                    'quant_pets': quant_pets,\n",
    "                    'faixa_salarial': faixa_salarial,\n",
    "                    'idade': idade,\n",
    "                    'peso': peso,\n",
    "                    'altura_do_pai': altura_do_pai\n",
    "    })\n",
    "\n",
    "\n",
    "\n",
    "y = np.zeros((15,)) + 1\n",
    "y = y * np.array( x['quant_pets'] )\n",
    "drop_salario = x['faixa_salarial'].apply(lambda x: 0 if x < faixa_salarial_mean else 1)\n",
    "y = y * drop_salario\n",
    "y = pd.Series(y, name='interesse')\n",
    "y = y.apply(lambda x: 0 if x==0 else 1)\n",
    "y\n",
    "\n",
    "'''\n",
    "print(y)\n",
    "\n",
    "drop_quant_pets = x['quant_pets'].apply(lambda x: 0 if x < x['quant_pets'].mean() else 1)\n",
    "\n",
    "\n",
    "y_mean = y.mean()\n",
    "print(y)\n",
    "y_mean\n",
    "y = pd.Series(y, name='interesse')\n",
    "y = y.apply(lambda x: 0 if x < y_mean else 1)\n",
    "'''"
   ]
  },
  {
   "cell_type": "markdown",
   "metadata": {
    "heading_collapsed": true
   },
   "source": [
    "### Conjunto de Features"
   ]
  },
  {
   "cell_type": "code",
   "execution_count": 854,
   "metadata": {
    "ExecuteTime": {
     "end_time": "2021-02-20T03:27:06.099499Z",
     "start_time": "2021-02-20T03:27:06.070254Z"
    },
    "hidden": true
   },
   "outputs": [
    {
     "data": {
      "text/html": [
       "<div>\n",
       "<style scoped>\n",
       "    .dataframe tbody tr th:only-of-type {\n",
       "        vertical-align: middle;\n",
       "    }\n",
       "\n",
       "    .dataframe tbody tr th {\n",
       "        vertical-align: top;\n",
       "    }\n",
       "\n",
       "    .dataframe thead th {\n",
       "        text-align: right;\n",
       "    }\n",
       "</style>\n",
       "<table border=\"1\" class=\"dataframe\">\n",
       "  <thead>\n",
       "    <tr style=\"text-align: right;\">\n",
       "      <th></th>\n",
       "      <th>quant_pets</th>\n",
       "      <th>faixa_salarial</th>\n",
       "      <th>idade</th>\n",
       "      <th>peso</th>\n",
       "      <th>altura_do_pai</th>\n",
       "    </tr>\n",
       "  </thead>\n",
       "  <tbody>\n",
       "    <tr>\n",
       "      <th>0</th>\n",
       "      <td>0</td>\n",
       "      <td>1000</td>\n",
       "      <td>30</td>\n",
       "      <td>86</td>\n",
       "      <td>1.68</td>\n",
       "    </tr>\n",
       "    <tr>\n",
       "      <th>1</th>\n",
       "      <td>0</td>\n",
       "      <td>2000</td>\n",
       "      <td>30</td>\n",
       "      <td>79</td>\n",
       "      <td>1.40</td>\n",
       "    </tr>\n",
       "    <tr>\n",
       "      <th>2</th>\n",
       "      <td>0</td>\n",
       "      <td>2500</td>\n",
       "      <td>52</td>\n",
       "      <td>87</td>\n",
       "      <td>1.72</td>\n",
       "    </tr>\n",
       "    <tr>\n",
       "      <th>3</th>\n",
       "      <td>0</td>\n",
       "      <td>2600</td>\n",
       "      <td>25</td>\n",
       "      <td>63</td>\n",
       "      <td>1.79</td>\n",
       "    </tr>\n",
       "    <tr>\n",
       "      <th>4</th>\n",
       "      <td>0</td>\n",
       "      <td>3000</td>\n",
       "      <td>39</td>\n",
       "      <td>74</td>\n",
       "      <td>1.70</td>\n",
       "    </tr>\n",
       "    <tr>\n",
       "      <th>5</th>\n",
       "      <td>1</td>\n",
       "      <td>3001</td>\n",
       "      <td>43</td>\n",
       "      <td>83</td>\n",
       "      <td>1.58</td>\n",
       "    </tr>\n",
       "    <tr>\n",
       "      <th>6</th>\n",
       "      <td>1</td>\n",
       "      <td>4001</td>\n",
       "      <td>48</td>\n",
       "      <td>76</td>\n",
       "      <td>1.74</td>\n",
       "    </tr>\n",
       "    <tr>\n",
       "      <th>7</th>\n",
       "      <td>1</td>\n",
       "      <td>4001</td>\n",
       "      <td>45</td>\n",
       "      <td>84</td>\n",
       "      <td>1.67</td>\n",
       "    </tr>\n",
       "    <tr>\n",
       "      <th>8</th>\n",
       "      <td>1</td>\n",
       "      <td>4001</td>\n",
       "      <td>43</td>\n",
       "      <td>76</td>\n",
       "      <td>1.57</td>\n",
       "    </tr>\n",
       "    <tr>\n",
       "      <th>9</th>\n",
       "      <td>1</td>\n",
       "      <td>4601</td>\n",
       "      <td>45</td>\n",
       "      <td>75</td>\n",
       "      <td>1.55</td>\n",
       "    </tr>\n",
       "    <tr>\n",
       "      <th>10</th>\n",
       "      <td>2</td>\n",
       "      <td>4502</td>\n",
       "      <td>60</td>\n",
       "      <td>85</td>\n",
       "      <td>1.69</td>\n",
       "    </tr>\n",
       "    <tr>\n",
       "      <th>11</th>\n",
       "      <td>1</td>\n",
       "      <td>6071</td>\n",
       "      <td>23</td>\n",
       "      <td>85</td>\n",
       "      <td>1.57</td>\n",
       "    </tr>\n",
       "    <tr>\n",
       "      <th>12</th>\n",
       "      <td>2</td>\n",
       "      <td>5002</td>\n",
       "      <td>20</td>\n",
       "      <td>78</td>\n",
       "      <td>1.58</td>\n",
       "    </tr>\n",
       "    <tr>\n",
       "      <th>13</th>\n",
       "      <td>1</td>\n",
       "      <td>3001</td>\n",
       "      <td>39</td>\n",
       "      <td>91</td>\n",
       "      <td>1.75</td>\n",
       "    </tr>\n",
       "    <tr>\n",
       "      <th>14</th>\n",
       "      <td>2</td>\n",
       "      <td>4002</td>\n",
       "      <td>40</td>\n",
       "      <td>76</td>\n",
       "      <td>1.72</td>\n",
       "    </tr>\n",
       "  </tbody>\n",
       "</table>\n",
       "</div>"
      ],
      "text/plain": [
       "    quant_pets  faixa_salarial  idade  peso  altura_do_pai\n",
       "0            0            1000     30    86           1.68\n",
       "1            0            2000     30    79           1.40\n",
       "2            0            2500     52    87           1.72\n",
       "3            0            2600     25    63           1.79\n",
       "4            0            3000     39    74           1.70\n",
       "5            1            3001     43    83           1.58\n",
       "6            1            4001     48    76           1.74\n",
       "7            1            4001     45    84           1.67\n",
       "8            1            4001     43    76           1.57\n",
       "9            1            4601     45    75           1.55\n",
       "10           2            4502     60    85           1.69\n",
       "11           1            6071     23    85           1.57\n",
       "12           2            5002     20    78           1.58\n",
       "13           1            3001     39    91           1.75\n",
       "14           2            4002     40    76           1.72"
      ]
     },
     "execution_count": 854,
     "metadata": {},
     "output_type": "execute_result"
    }
   ],
   "source": [
    "x"
   ]
  },
  {
   "cell_type": "markdown",
   "metadata": {
    "heading_collapsed": true
   },
   "source": [
    "### Variável Resposta"
   ]
  },
  {
   "cell_type": "code",
   "execution_count": 855,
   "metadata": {
    "ExecuteTime": {
     "end_time": "2021-02-20T03:27:06.913571Z",
     "start_time": "2021-02-20T03:27:06.909116Z"
    },
    "hidden": true
   },
   "outputs": [
    {
     "data": {
      "text/plain": [
       "0     0\n",
       "1     0\n",
       "2     0\n",
       "3     0\n",
       "4     0\n",
       "5     0\n",
       "6     1\n",
       "7     1\n",
       "8     1\n",
       "9     1\n",
       "10    1\n",
       "11    1\n",
       "12    1\n",
       "13    0\n",
       "14    1\n",
       "Name: interesse, dtype: int64"
      ]
     },
     "execution_count": 855,
     "metadata": {},
     "output_type": "execute_result"
    }
   ],
   "source": [
    "y"
   ]
  },
  {
   "cell_type": "markdown",
   "metadata": {},
   "source": [
    "# Algoritmo boruta Implementação"
   ]
  },
  {
   "cell_type": "markdown",
   "metadata": {},
   "source": [
    "O algoritmo apresenta 10 passos."
   ]
  },
  {
   "cell_type": "markdown",
   "metadata": {},
   "source": [
    "## 1-) Criação de shadow features"
   ]
  },
  {
   "cell_type": "markdown",
   "metadata": {},
   "source": [
    "A partir do dataset inicial, criamos uma cópia para cada feature e a renomeamos com a palavra shadow."
   ]
  },
  {
   "cell_type": "code",
   "execution_count": 454,
   "metadata": {
    "ExecuteTime": {
     "end_time": "2021-02-19T22:01:33.973115Z",
     "start_time": "2021-02-19T22:01:33.962323Z"
    }
   },
   "outputs": [
    {
     "name": "stdout",
     "output_type": "stream",
     "text": [
      "5\n"
     ]
    }
   ],
   "source": [
    "num_of_features = x.shape[1]\n",
    "x_shadow = x.copy()\n",
    "x_shadow.columns = ['shadow_' + col_name for col_name in x.columns]"
   ]
  },
  {
   "cell_type": "markdown",
   "metadata": {},
   "source": [
    "## 2-) Embaralhamento das shadow features"
   ]
  },
  {
   "cell_type": "markdown",
   "metadata": {
    "ExecuteTime": {
     "end_time": "2021-02-19T20:47:33.797509Z",
     "start_time": "2021-02-19T20:47:33.792349Z"
    }
   },
   "source": [
    "Em cada shadow feature, realizamos um embaralhamento dos seus dados. Isso é feito para remover a correlação\n",
    "entre a shadow feature e a variável resposta. "
   ]
  },
  {
   "cell_type": "code",
   "execution_count": 402,
   "metadata": {
    "ExecuteTime": {
     "end_time": "2021-02-19T21:36:49.982680Z",
     "start_time": "2021-02-19T21:36:49.964711Z"
    }
   },
   "outputs": [],
   "source": [
    "np.random.seed(21)\n",
    "x_shadow = x_shadow.apply( lambda x: np.random.permutation(x) )\n",
    "x_shadow = x_shadow.reset_index()\n",
    "x_shadow.drop('index', axis=1, inplace=True)"
   ]
  },
  {
   "cell_type": "markdown",
   "metadata": {
    "ExecuteTime": {
     "end_time": "2021-02-19T20:57:30.591901Z",
     "start_time": "2021-02-19T20:57:30.576198Z"
    }
   },
   "source": [
    "### Juntamos as features iniciais com as shadow features"
   ]
  },
  {
   "cell_type": "code",
   "execution_count": 411,
   "metadata": {
    "ExecuteTime": {
     "end_time": "2021-02-19T21:41:28.874824Z",
     "start_time": "2021-02-19T21:41:28.856446Z"
    }
   },
   "outputs": [
    {
     "data": {
      "text/plain": [
       "Index(['quant_pets', 'faixa_salarial', 'idade', 'peso', 'altura_do_pai',\n",
       "       'shadow_quant_pets', 'shadow_faixa_salarial', 'shadow_idade',\n",
       "       'shadow_peso', 'shadow_altura_do_pai'],\n",
       "      dtype='object')"
      ]
     },
     "execution_count": 411,
     "metadata": {},
     "output_type": "execute_result"
    }
   ],
   "source": [
    "x_merged = pd.concat( [x, x_shadow], axis=1 )\n",
    "x_merged.columns"
   ]
  },
  {
   "cell_type": "markdown",
   "metadata": {},
   "source": [
    "## 3-) Treinamento do modelo com o novo conjunto de dados (features originais + shadow features)"
   ]
  },
  {
   "cell_type": "markdown",
   "metadata": {},
   "source": [
    "Será usado o algoritmo Random Forest para treinar o modelo, pois este algoritmo calcula <br>\n",
    "a importância das features durante o seu treinamento, esse cálculo é baseado no método de Gini.\n"
   ]
  },
  {
   "cell_type": "code",
   "execution_count": 413,
   "metadata": {
    "ExecuteTime": {
     "end_time": "2021-02-19T21:41:44.871462Z",
     "start_time": "2021-02-19T21:41:44.701001Z"
    }
   },
   "outputs": [
    {
     "data": {
      "text/plain": [
       "RandomForestClassifier(max_depth=3, random_state=42)"
      ]
     },
     "execution_count": 413,
     "metadata": {},
     "output_type": "execute_result"
    }
   ],
   "source": [
    "rf = RandomForestClassifier(random_state=42, max_depth=3)\n",
    "rf.fit( x_merged, y )"
   ]
  },
  {
   "cell_type": "code",
   "execution_count": 406,
   "metadata": {
    "ExecuteTime": {
     "end_time": "2021-02-19T21:38:42.075549Z",
     "start_time": "2021-02-19T21:38:42.021361Z"
    }
   },
   "outputs": [
    {
     "data": {
      "text/plain": [
       "array([0.10343029, 0.35391345, 0.06762231, 0.04514903, 0.060671  ,\n",
       "       0.03689565, 0.12619728, 0.05067433, 0.09926615, 0.05618051])"
      ]
     },
     "execution_count": 406,
     "metadata": {},
     "output_type": "execute_result"
    }
   ],
   "source": [
    "rf.feature_importances_"
   ]
  },
  {
   "cell_type": "code",
   "execution_count": 488,
   "metadata": {
    "ExecuteTime": {
     "end_time": "2021-02-19T22:14:35.687859Z",
     "start_time": "2021-02-19T22:14:35.654012Z"
    }
   },
   "outputs": [],
   "source": [
    "importance_table = pd.DataFrame([rf.feature_importances_], columns=x_merged.columns)"
   ]
  },
  {
   "cell_type": "markdown",
   "metadata": {},
   "source": [
    "### Vamos obter a maior importância dentre as shadow features "
   ]
  },
  {
   "cell_type": "code",
   "execution_count": 513,
   "metadata": {
    "ExecuteTime": {
     "end_time": "2021-02-19T22:25:08.885475Z",
     "start_time": "2021-02-19T22:25:08.859459Z"
    }
   },
   "outputs": [
    {
     "name": "stdout",
     "output_type": "stream",
     "text": [
      "O maior valor de importância dado a uma shadow feature foi: 0.13\n"
     ]
    }
   ],
   "source": [
    "imp_feature_list = rf.feature_importances_\n",
    "imp_original_feature_list = imp_feature_list[:len(x.columns)]\n",
    "imp_shadow_feature_list = imp_feature_list[len(x.columns):]\n",
    "print('O maior valor de importância dado a uma shadow feature foi: ' + str(np.round( imp_shadow_feature_list.max(), 2) ))"
   ]
  },
  {
   "cell_type": "markdown",
   "metadata": {},
   "source": [
    "## 4-) Avaliação da importância das features originais com as shadow features"
   ]
  },
  {
   "cell_type": "markdown",
   "metadata": {},
   "source": [
    "Se a feature original apresentar importância maior que a maior importância das shadow features, ela teve um sucesso.\n",
    "\n",
    "Caso contrário, ela teve um fracasso."
   ]
  },
  {
   "cell_type": "code",
   "execution_count": 511,
   "metadata": {
    "ExecuteTime": {
     "end_time": "2021-02-19T22:23:28.581172Z",
     "start_time": "2021-02-19T22:23:28.565756Z"
    }
   },
   "outputs": [
    {
     "data": {
      "text/plain": [
       "array([0, 1, 0, 0, 0])"
      ]
     },
     "execution_count": 511,
     "metadata": {},
     "output_type": "execute_result"
    }
   ],
   "source": [
    "sucess_table = ( imp_original_feature_list > imp_shadow_feature_list.max() ).astype(int)\n",
    "sucess_table"
   ]
  },
  {
   "cell_type": "markdown",
   "metadata": {},
   "source": [
    "## 5-) Reembaralhamento das shadow features e repetição dos processos 3 e 4"
   ]
  },
  {
   "cell_type": "markdown",
   "metadata": {
    "ExecuteTime": {
     "end_time": "2021-02-19T22:28:42.306246Z",
     "start_time": "2021-02-19T22:28:42.300114Z"
    }
   },
   "source": [
    "Para obter uma melhor precisão acerca da importância fornecida pelo algoritmo Random Forest,<br>\n",
    "repetimos o processo por 10 vezes, sempre marcando os pontos."
   ]
  },
  {
   "cell_type": "markdown",
   "metadata": {},
   "source": [
    "## Algoritmo Completo"
   ]
  },
  {
   "cell_type": "code",
   "execution_count": 856,
   "metadata": {
    "ExecuteTime": {
     "end_time": "2021-02-20T03:27:12.620571Z",
     "start_time": "2021-02-20T03:27:12.577286Z"
    }
   },
   "outputs": [],
   "source": [
    "class borutaAlgorithm:\n",
    "    \n",
    "    def __init__(self, max_steps, x, y):\n",
    "        self.max_steps = max_steps\n",
    "        self.x = x\n",
    "        self.y = y\n",
    "        self.num_of_features = x.shape[1]\n",
    "        self.seed = 21\n",
    "        np.random.seed( self.seed )\n",
    "    \n",
    "    def creatingShadowFeatures(self, x):\n",
    "        x_shadow = x.copy()\n",
    "        x_shadow.columns = ['shadow_' + col_name for col_name in x.columns]      \n",
    "        return x_shadow\n",
    "        \n",
    "    def mergeOriginalAndShadowFeatures( self, x, x_shadow ):\n",
    "        return pd.concat( [x, x_shadow], axis=1 )\n",
    "        \n",
    "    def shufflingShadowFeatures(self, x_merged ):\n",
    "        x_merged.iloc[:, self.num_of_features:] = x_merged.iloc[:, self.num_of_features:].apply( lambda x: np.random.permutation(x), axis=0 )\n",
    "        #x_shadow = x_shadow.reset_index()\n",
    "        #x_shadow.drop('index', axis=1, inplace=True)\n",
    "        print(x_merged)\n",
    "        return x_merged\n",
    "        \n",
    "    def training(self, x_merged, y, sucess_table):\n",
    "        rf = RandomForestClassifier(random_state=42, max_depth=3)\n",
    "        rf.fit( x_merged, y )\n",
    "        imp_feature_list = rf.feature_importances_\n",
    "        imp_original_feature_list = imp_feature_list[:len(x.columns)]\n",
    "        imp_shadow_feature_list = imp_feature_list[len(x.columns):]\n",
    "        print(rf.feature_importances_)\n",
    "        sucess_table = sucess_table + ( imp_original_feature_list > imp_shadow_feature_list.max() ).astype(int)\n",
    "\n",
    "        return sucess_table\n",
    "    \n",
    "    def findBestFeatures(self):\n",
    "        # creation of shadow features\n",
    "        shadow_features = self.creatingShadowFeatures( self.x )\n",
    "        # merge with the original features\n",
    "        merged_data = self.mergeOriginalAndShadowFeatures( self.x, shadow_features )\n",
    "        # creation of sucess_table, initially all zeros\n",
    "        sucess_table = np.zeros((self.num_of_features,))\n",
    "        \n",
    "        for i in range( self.max_steps ):\n",
    "            print('Step ' + str(i+1), end='\\n')\n",
    "            # shuffling the shadow features\n",
    "            merged_data = self.shufflingShadowFeatures( merged_data )\n",
    "            sucess_table = self.training( merged_data, self.y, sucess_table )\n",
    "            \n",
    "        return sucess_table"
   ]
  },
  {
   "cell_type": "code",
   "execution_count": 857,
   "metadata": {
    "ExecuteTime": {
     "end_time": "2021-02-20T03:27:15.912656Z",
     "start_time": "2021-02-20T03:27:12.890672Z"
    }
   },
   "outputs": [
    {
     "name": "stdout",
     "output_type": "stream",
     "text": [
      "Step 1\n",
      "    quant_pets  faixa_salarial  idade  peso  altura_do_pai  shadow_quant_pets  \\\n",
      "0            0            1000     30    86           1.68                  2   \n",
      "1            0            2000     30    79           1.40                  1   \n",
      "2            0            2500     52    87           1.72                  1   \n",
      "3            0            2600     25    63           1.79                  2   \n",
      "4            0            3000     39    74           1.70                  1   \n",
      "5            1            3001     43    83           1.58                  0   \n",
      "6            1            4001     48    76           1.74                  0   \n",
      "7            1            4001     45    84           1.67                  2   \n",
      "8            1            4001     43    76           1.57                  0   \n",
      "9            1            4601     45    75           1.55                  1   \n",
      "10           2            4502     60    85           1.69                  1   \n",
      "11           1            6071     23    85           1.57                  0   \n",
      "12           2            5002     20    78           1.58                  0   \n",
      "13           1            3001     39    91           1.75                  1   \n",
      "14           2            4002     40    76           1.72                  1   \n",
      "\n",
      "    shadow_faixa_salarial  shadow_idade  shadow_peso  shadow_altura_do_pai  \n",
      "0                    2000            23           83                  1.57  \n",
      "1                    2500            40           91                  1.57  \n",
      "2                    4002            25           76                  1.72  \n",
      "3                    3001            30           75                  1.72  \n",
      "4                    4001            45           85                  1.40  \n",
      "5                    2600            43           74                  1.69  \n",
      "6                    4001            39           76                  1.67  \n",
      "7                    6071            30           84                  1.70  \n",
      "8                    3000            60           87                  1.79  \n",
      "9                    1000            20           78                  1.74  \n",
      "10                   4502            52           79                  1.55  \n",
      "11                   4001            39           76                  1.58  \n",
      "12                   4601            48           86                  1.58  \n",
      "13                   3001            43           63                  1.68  \n",
      "14                   5002            45           85                  1.75  \n",
      "[0.16399073 0.37200582 0.05431312 0.07795076 0.04107786 0.01335101\n",
      " 0.09265168 0.0690998  0.06103618 0.05452305]\n",
      "Step 2\n",
      "    quant_pets  faixa_salarial  idade  peso  altura_do_pai  shadow_quant_pets  \\\n",
      "0            0            1000     30    86           1.68                  0   \n",
      "1            0            2000     30    79           1.40                  0   \n",
      "2            0            2500     52    87           1.72                  1   \n",
      "3            0            2600     25    63           1.79                  2   \n",
      "4            0            3000     39    74           1.70                  1   \n",
      "5            1            3001     43    83           1.58                  0   \n",
      "6            1            4001     48    76           1.74                  0   \n",
      "7            1            4001     45    84           1.67                  1   \n",
      "8            1            4001     43    76           1.57                  2   \n",
      "9            1            4601     45    75           1.55                  1   \n",
      "10           2            4502     60    85           1.69                  0   \n",
      "11           1            6071     23    85           1.57                  1   \n",
      "12           2            5002     20    78           1.58                  1   \n",
      "13           1            3001     39    91           1.75                  2   \n",
      "14           2            4002     40    76           1.72                  1   \n",
      "\n",
      "    shadow_faixa_salarial  shadow_idade  shadow_peso  shadow_altura_do_pai  \n",
      "0                    2500            43           76                  1.58  \n",
      "1                    4001            45           83                  1.72  \n",
      "2                    3001            25           85                  1.55  \n",
      "3                    3000            39           85                  1.79  \n",
      "4                    4001            43           74                  1.57  \n",
      "5                    4601            30           76                  1.68  \n",
      "6                    3001            60           87                  1.72  \n",
      "7                    4502            45           84                  1.58  \n",
      "8                    4002            52           86                  1.74  \n",
      "9                    2600            48           76                  1.57  \n",
      "10                   6071            30           75                  1.67  \n",
      "11                   5002            23           91                  1.40  \n",
      "12                   2000            40           78                  1.75  \n",
      "13                   4001            39           63                  1.70  \n",
      "14                   1000            20           79                  1.69  \n",
      "[0.17677018 0.39548907 0.06782635 0.08053697 0.03959766 0.02660327\n",
      " 0.06936815 0.04635888 0.06211952 0.03532996]\n",
      "Step 3\n",
      "    quant_pets  faixa_salarial  idade  peso  altura_do_pai  shadow_quant_pets  \\\n",
      "0            0            1000     30    86           1.68                  1   \n",
      "1            0            2000     30    79           1.40                  0   \n",
      "2            0            2500     52    87           1.72                  1   \n",
      "3            0            2600     25    63           1.79                  0   \n",
      "4            0            3000     39    74           1.70                  0   \n",
      "5            1            3001     43    83           1.58                  1   \n",
      "6            1            4001     48    76           1.74                  2   \n",
      "7            1            4001     45    84           1.67                  0   \n",
      "8            1            4001     43    76           1.57                  1   \n",
      "9            1            4601     45    75           1.55                  2   \n",
      "10           2            4502     60    85           1.69                  2   \n",
      "11           1            6071     23    85           1.57                  1   \n",
      "12           2            5002     20    78           1.58                  1   \n",
      "13           1            3001     39    91           1.75                  0   \n",
      "14           2            4002     40    76           1.72                  1   \n",
      "\n",
      "    shadow_faixa_salarial  shadow_idade  shadow_peso  shadow_altura_do_pai  \n",
      "0                    6071            48           74                  1.70  \n",
      "1                    3001            43           91                  1.69  \n",
      "2                    2000            45           76                  1.72  \n",
      "3                    5002            52           86                  1.74  \n",
      "4                    4502            43           84                  1.57  \n",
      "5                    2600            60           79                  1.57  \n",
      "6                    3000            39           78                  1.58  \n",
      "7                    2500            25           76                  1.67  \n",
      "8                    4601            39           83                  1.58  \n",
      "9                    4002            30           76                  1.55  \n",
      "10                   3001            23           75                  1.75  \n",
      "11                   4001            45           85                  1.79  \n",
      "12                   4001            30           63                  1.40  \n",
      "13                   4001            40           87                  1.68  \n",
      "14                   1000            20           85                  1.72  \n",
      "[0.11365056 0.36382178 0.07069386 0.06090491 0.01425428 0.02810276\n",
      " 0.03557167 0.24067855 0.03854638 0.03377525]\n",
      "Step 4\n",
      "    quant_pets  faixa_salarial  idade  peso  altura_do_pai  shadow_quant_pets  \\\n",
      "0            0            1000     30    86           1.68                  1   \n",
      "1            0            2000     30    79           1.40                  2   \n",
      "2            0            2500     52    87           1.72                  0   \n",
      "3            0            2600     25    63           1.79                  0   \n",
      "4            0            3000     39    74           1.70                  2   \n",
      "5            1            3001     43    83           1.58                  1   \n",
      "6            1            4001     48    76           1.74                  1   \n",
      "7            1            4001     45    84           1.67                  0   \n",
      "8            1            4001     43    76           1.57                  0   \n",
      "9            1            4601     45    75           1.55                  1   \n",
      "10           2            4502     60    85           1.69                  1   \n",
      "11           1            6071     23    85           1.57                  0   \n",
      "12           2            5002     20    78           1.58                  2   \n",
      "13           1            3001     39    91           1.75                  1   \n",
      "14           2            4002     40    76           1.72                  1   \n",
      "\n",
      "    shadow_faixa_salarial  shadow_idade  shadow_peso  shadow_altura_do_pai  \n",
      "0                    5002            25           63                  1.72  \n",
      "1                    1000            43           76                  1.74  \n",
      "2                    2000            39           84                  1.70  \n",
      "3                    4601            45           85                  1.55  \n",
      "4                    2600            48           87                  1.57  \n",
      "5                    4001            39           85                  1.67  \n",
      "6                    6071            43           86                  1.40  \n",
      "7                    3000            30           74                  1.75  \n",
      "8                    4502            20           91                  1.58  \n",
      "9                    4001            40           76                  1.68  \n",
      "10                   3001            52           75                  1.57  \n",
      "11                   4002            45           79                  1.79  \n",
      "12                   3001            30           83                  1.72  \n",
      "13                   2500            23           78                  1.69  \n",
      "14                   4001            60           76                  1.58  \n",
      "[0.16774252 0.36751021 0.07889166 0.09490397 0.03592376 0.01337546\n",
      " 0.1272164  0.03486522 0.0374583  0.0421125 ]\n",
      "Step 5\n",
      "    quant_pets  faixa_salarial  idade  peso  altura_do_pai  shadow_quant_pets  \\\n",
      "0            0            1000     30    86           1.68                  0   \n",
      "1            0            2000     30    79           1.40                  0   \n",
      "2            0            2500     52    87           1.72                  2   \n",
      "3            0            2600     25    63           1.79                  1   \n",
      "4            0            3000     39    74           1.70                  0   \n",
      "5            1            3001     43    83           1.58                  1   \n",
      "6            1            4001     48    76           1.74                  0   \n",
      "7            1            4001     45    84           1.67                  2   \n",
      "8            1            4001     43    76           1.57                  1   \n",
      "9            1            4601     45    75           1.55                  1   \n",
      "10           2            4502     60    85           1.69                  2   \n",
      "11           1            6071     23    85           1.57                  1   \n",
      "12           2            5002     20    78           1.58                  1   \n",
      "13           1            3001     39    91           1.75                  0   \n",
      "14           2            4002     40    76           1.72                  1   \n",
      "\n",
      "    shadow_faixa_salarial  shadow_idade  shadow_peso  shadow_altura_do_pai  \n",
      "0                    4502            60           75                  1.58  \n",
      "1                    2600            20           91                  1.74  \n",
      "2                    5002            25           76                  1.40  \n",
      "3                    2000            45           78                  1.72  \n",
      "4                    4002            30           85                  1.70  \n",
      "5                    3001            45           87                  1.68  \n",
      "6                    3001            48           76                  1.72  \n",
      "7                    4001            23           84                  1.75  \n",
      "8                    4601            43           79                  1.79  \n",
      "9                    4001            52           86                  1.67  \n",
      "10                   2500            40           83                  1.58  \n",
      "11                   4001            39           76                  1.57  \n",
      "12                   3000            30           63                  1.57  \n",
      "13                   1000            39           85                  1.55  \n",
      "14                   6071            43           74                  1.69  \n"
     ]
    },
    {
     "name": "stdout",
     "output_type": "stream",
     "text": [
      "[0.18207375 0.38257102 0.06919287 0.07700099 0.04816802 0.02521664\n",
      " 0.04048932 0.03936285 0.06873647 0.06718808]\n",
      "Step 6\n",
      "    quant_pets  faixa_salarial  idade  peso  altura_do_pai  shadow_quant_pets  \\\n",
      "0            0            1000     30    86           1.68                  0   \n",
      "1            0            2000     30    79           1.40                  1   \n",
      "2            0            2500     52    87           1.72                  2   \n",
      "3            0            2600     25    63           1.79                  1   \n",
      "4            0            3000     39    74           1.70                  0   \n",
      "5            1            3001     43    83           1.58                  0   \n",
      "6            1            4001     48    76           1.74                  1   \n",
      "7            1            4001     45    84           1.67                  0   \n",
      "8            1            4001     43    76           1.57                  1   \n",
      "9            1            4601     45    75           1.55                  2   \n",
      "10           2            4502     60    85           1.69                  2   \n",
      "11           1            6071     23    85           1.57                  0   \n",
      "12           2            5002     20    78           1.58                  1   \n",
      "13           1            3001     39    91           1.75                  1   \n",
      "14           2            4002     40    76           1.72                  1   \n",
      "\n",
      "    shadow_faixa_salarial  shadow_idade  shadow_peso  shadow_altura_do_pai  \n",
      "0                    2000            30           85                  1.57  \n",
      "1                    2600            30           74                  1.72  \n",
      "2                    3001            45           63                  1.74  \n",
      "3                    3001            23           76                  1.57  \n",
      "4                    4001            60           84                  1.72  \n",
      "5                    4001            43           87                  1.58  \n",
      "6                    5002            25           78                  1.69  \n",
      "7                    2500            48           76                  1.68  \n",
      "8                    1000            45           83                  1.55  \n",
      "9                    4601            39           85                  1.79  \n",
      "10                   4001            43           79                  1.70  \n",
      "11                   3000            20           76                  1.58  \n",
      "12                   4002            40           86                  1.75  \n",
      "13                   4502            52           75                  1.40  \n",
      "14                   6071            39           91                  1.67  \n",
      "[0.17128594 0.37586653 0.08998301 0.09285197 0.04401372 0.01711594\n",
      " 0.04919955 0.03913618 0.06549171 0.05505545]\n",
      "Step 7\n",
      "    quant_pets  faixa_salarial  idade  peso  altura_do_pai  shadow_quant_pets  \\\n",
      "0            0            1000     30    86           1.68                  1   \n",
      "1            0            2000     30    79           1.40                  1   \n",
      "2            0            2500     52    87           1.72                  2   \n",
      "3            0            2600     25    63           1.79                  1   \n",
      "4            0            3000     39    74           1.70                  0   \n",
      "5            1            3001     43    83           1.58                  1   \n",
      "6            1            4001     48    76           1.74                  1   \n",
      "7            1            4001     45    84           1.67                  1   \n",
      "8            1            4001     43    76           1.57                  2   \n",
      "9            1            4601     45    75           1.55                  0   \n",
      "10           2            4502     60    85           1.69                  0   \n",
      "11           1            6071     23    85           1.57                  1   \n",
      "12           2            5002     20    78           1.58                  2   \n",
      "13           1            3001     39    91           1.75                  0   \n",
      "14           2            4002     40    76           1.72                  0   \n",
      "\n",
      "    shadow_faixa_salarial  shadow_idade  shadow_peso  shadow_altura_do_pai  \n",
      "0                    1000            40           86                  1.68  \n",
      "1                    4001            20           74                  1.67  \n",
      "2                    3001            45           76                  1.57  \n",
      "3                    6071            30           91                  1.58  \n",
      "4                    4502            39           76                  1.72  \n",
      "5                    4001            39           78                  1.72  \n",
      "6                    4002            45           83                  1.55  \n",
      "7                    4601            48           85                  1.69  \n",
      "8                    2500            60           76                  1.75  \n",
      "9                    4001            52           84                  1.79  \n",
      "10                   2000            43           63                  1.74  \n",
      "11                   3001            25           85                  1.70  \n",
      "12                   5002            30           79                  1.40  \n",
      "13                   3000            43           87                  1.58  \n",
      "14                   2600            23           75                  1.57  \n",
      "[0.16663438 0.39134601 0.0806011  0.08100568 0.03566087 0.00306144\n",
      " 0.05712104 0.0670095  0.05547558 0.06208439]\n",
      "Step 8\n",
      "    quant_pets  faixa_salarial  idade  peso  altura_do_pai  shadow_quant_pets  \\\n",
      "0            0            1000     30    86           1.68                  2   \n",
      "1            0            2000     30    79           1.40                  0   \n",
      "2            0            2500     52    87           1.72                  0   \n",
      "3            0            2600     25    63           1.79                  1   \n",
      "4            0            3000     39    74           1.70                  0   \n",
      "5            1            3001     43    83           1.58                  1   \n",
      "6            1            4001     48    76           1.74                  2   \n",
      "7            1            4001     45    84           1.67                  1   \n",
      "8            1            4001     43    76           1.57                  1   \n",
      "9            1            4601     45    75           1.55                  1   \n",
      "10           2            4502     60    85           1.69                  0   \n",
      "11           1            6071     23    85           1.57                  1   \n",
      "12           2            5002     20    78           1.58                  1   \n",
      "13           1            3001     39    91           1.75                  0   \n",
      "14           2            4002     40    76           1.72                  2   \n",
      "\n",
      "    shadow_faixa_salarial  shadow_idade  shadow_peso  shadow_altura_do_pai  \n",
      "0                    3000            48           85                  1.58  \n",
      "1                    2000            40           91                  1.75  \n",
      "2                    6071            25           76                  1.69  \n",
      "3                    4502            30           86                  1.68  \n",
      "4                    4001            43           63                  1.57  \n",
      "5                    2600            45           87                  1.70  \n",
      "6                    2500            39           83                  1.58  \n",
      "7                    4001            43           74                  1.57  \n",
      "8                    1000            23           84                  1.55  \n",
      "9                    4001            20           79                  1.74  \n",
      "10                   4002            52           75                  1.79  \n",
      "11                   5002            39           85                  1.40  \n",
      "12                   4601            60           76                  1.67  \n",
      "13                   3001            30           78                  1.72  \n",
      "14                   3001            45           76                  1.72  \n",
      "[0.16200002 0.34437968 0.06845152 0.0951744  0.05093332 0.04142056\n",
      " 0.07589427 0.04408545 0.06005091 0.05760986]\n",
      "Step 9\n",
      "    quant_pets  faixa_salarial  idade  peso  altura_do_pai  shadow_quant_pets  \\\n",
      "0            0            1000     30    86           1.68                  0   \n",
      "1            0            2000     30    79           1.40                  1   \n",
      "2            0            2500     52    87           1.72                  1   \n",
      "3            0            2600     25    63           1.79                  0   \n",
      "4            0            3000     39    74           1.70                  0   \n",
      "5            1            3001     43    83           1.58                  0   \n",
      "6            1            4001     48    76           1.74                  1   \n",
      "7            1            4001     45    84           1.67                  2   \n",
      "8            1            4001     43    76           1.57                  2   \n",
      "9            1            4601     45    75           1.55                  1   \n",
      "10           2            4502     60    85           1.69                  1   \n",
      "11           1            6071     23    85           1.57                  1   \n",
      "12           2            5002     20    78           1.58                  1   \n",
      "13           1            3001     39    91           1.75                  2   \n",
      "14           2            4002     40    76           1.72                  0   \n",
      "\n",
      "    shadow_faixa_salarial  shadow_idade  shadow_peso  shadow_altura_do_pai  \n",
      "0                    3000            43           87                  1.72  \n",
      "1                    3001            23           74                  1.58  \n",
      "2                    6071            45           75                  1.75  \n",
      "3                    4002            52           76                  1.79  \n",
      "4                    2600            25           83                  1.57  \n",
      "5                    1000            39           76                  1.70  \n",
      "6                    4001            40           85                  1.57  \n",
      "7                    4001            43           84                  1.55  \n",
      "8                    4001            48           85                  1.67  \n",
      "9                    5002            30           63                  1.40  \n",
      "10                   2500            39           76                  1.68  \n",
      "11                   3001            30           91                  1.72  \n",
      "12                   2000            45           79                  1.69  \n",
      "13                   4502            20           78                  1.58  \n",
      "14                   4601            60           86                  1.74  \n"
     ]
    },
    {
     "name": "stdout",
     "output_type": "stream",
     "text": [
      "[0.14657438 0.35356841 0.07485769 0.07047587 0.04586566 0.05895196\n",
      " 0.05316185 0.06559215 0.06558551 0.06536654]\n",
      "Step 10\n",
      "    quant_pets  faixa_salarial  idade  peso  altura_do_pai  shadow_quant_pets  \\\n",
      "0            0            1000     30    86           1.68                  1   \n",
      "1            0            2000     30    79           1.40                  2   \n",
      "2            0            2500     52    87           1.72                  0   \n",
      "3            0            2600     25    63           1.79                  1   \n",
      "4            0            3000     39    74           1.70                  1   \n",
      "5            1            3001     43    83           1.58                  1   \n",
      "6            1            4001     48    76           1.74                  1   \n",
      "7            1            4001     45    84           1.67                  0   \n",
      "8            1            4001     43    76           1.57                  0   \n",
      "9            1            4601     45    75           1.55                  0   \n",
      "10           2            4502     60    85           1.69                  1   \n",
      "11           1            6071     23    85           1.57                  2   \n",
      "12           2            5002     20    78           1.58                  1   \n",
      "13           1            3001     39    91           1.75                  0   \n",
      "14           2            4002     40    76           1.72                  2   \n",
      "\n",
      "    shadow_faixa_salarial  shadow_idade  shadow_peso  shadow_altura_do_pai  \n",
      "0                    3001            23           79                  1.69  \n",
      "1                    2000            43           63                  1.74  \n",
      "2                    3001            30           83                  1.55  \n",
      "3                    4001            20           91                  1.68  \n",
      "4                    4001            25           75                  1.58  \n",
      "5                    2500            39           85                  1.70  \n",
      "6                    5002            30           76                  1.58  \n",
      "7                    1000            48           84                  1.67  \n",
      "8                    4002            52           76                  1.57  \n",
      "9                    2600            45           85                  1.72  \n",
      "10                   4502            40           74                  1.57  \n",
      "11                   4601            39           86                  1.72  \n",
      "12                   4001            45           76                  1.79  \n",
      "13                   3000            43           87                  1.40  \n",
      "14                   6071            60           78                  1.75  \n",
      "[0.14181514 0.35472748 0.06142483 0.06557319 0.02103755 0.00597647\n",
      " 0.16234006 0.11573865 0.03286734 0.03849929]\n",
      "Step 11\n",
      "    quant_pets  faixa_salarial  idade  peso  altura_do_pai  shadow_quant_pets  \\\n",
      "0            0            1000     30    86           1.68                  2   \n",
      "1            0            2000     30    79           1.40                  0   \n",
      "2            0            2500     52    87           1.72                  1   \n",
      "3            0            2600     25    63           1.79                  0   \n",
      "4            0            3000     39    74           1.70                  1   \n",
      "5            1            3001     43    83           1.58                  0   \n",
      "6            1            4001     48    76           1.74                  1   \n",
      "7            1            4001     45    84           1.67                  0   \n",
      "8            1            4001     43    76           1.57                  2   \n",
      "9            1            4601     45    75           1.55                  0   \n",
      "10           2            4502     60    85           1.69                  1   \n",
      "11           1            6071     23    85           1.57                  1   \n",
      "12           2            5002     20    78           1.58                  2   \n",
      "13           1            3001     39    91           1.75                  1   \n",
      "14           2            4002     40    76           1.72                  1   \n",
      "\n",
      "    shadow_faixa_salarial  shadow_idade  shadow_peso  shadow_altura_do_pai  \n",
      "0                    3001            43           74                  1.72  \n",
      "1                    1000            60           75                  1.72  \n",
      "2                    6071            39           78                  1.68  \n",
      "3                    3000            30           91                  1.58  \n",
      "4                    5002            48           85                  1.55  \n",
      "5                    4001            25           76                  1.40  \n",
      "6                    2500            45           79                  1.74  \n",
      "7                    4001            20           85                  1.57  \n",
      "8                    4001            23           83                  1.79  \n",
      "9                    4502            52           87                  1.69  \n",
      "10                   2600            45           84                  1.75  \n",
      "11                   2000            40           86                  1.70  \n",
      "12                   4601            39           76                  1.57  \n",
      "13                   3001            30           76                  1.67  \n",
      "14                   4002            43           63                  1.58  \n",
      "[0.16158633 0.35755628 0.08131833 0.09795157 0.03455717 0.01571429\n",
      " 0.05655642 0.05126444 0.06696301 0.07653216]\n",
      "Step 12\n",
      "    quant_pets  faixa_salarial  idade  peso  altura_do_pai  shadow_quant_pets  \\\n",
      "0            0            1000     30    86           1.68                  2   \n",
      "1            0            2000     30    79           1.40                  0   \n",
      "2            0            2500     52    87           1.72                  0   \n",
      "3            0            2600     25    63           1.79                  2   \n",
      "4            0            3000     39    74           1.70                  1   \n",
      "5            1            3001     43    83           1.58                  2   \n",
      "6            1            4001     48    76           1.74                  1   \n",
      "7            1            4001     45    84           1.67                  1   \n",
      "8            1            4001     43    76           1.57                  1   \n",
      "9            1            4601     45    75           1.55                  1   \n",
      "10           2            4502     60    85           1.69                  1   \n",
      "11           1            6071     23    85           1.57                  1   \n",
      "12           2            5002     20    78           1.58                  0   \n",
      "13           1            3001     39    91           1.75                  0   \n",
      "14           2            4002     40    76           1.72                  0   \n",
      "\n",
      "    shadow_faixa_salarial  shadow_idade  shadow_peso  shadow_altura_do_pai  \n",
      "0                    3001            60           76                  1.58  \n",
      "1                    4502            20           74                  1.79  \n",
      "2                    4002            48           85                  1.57  \n",
      "3                    4601            43           76                  1.40  \n",
      "4                    4001            40           83                  1.72  \n",
      "5                    2000            45           85                  1.58  \n",
      "6                    4001            30           84                  1.67  \n",
      "7                    2500            25           87                  1.55  \n",
      "8                    3001            23           91                  1.75  \n",
      "9                    6071            52           78                  1.68  \n",
      "10                   1000            39           75                  1.72  \n",
      "11                   4001            43           63                  1.57  \n",
      "12                   2600            45           76                  1.70  \n",
      "13                   5002            30           86                  1.69  \n",
      "14                   3000            39           79                  1.74  \n",
      "[0.17711904 0.3760179  0.08595855 0.06867956 0.03981055 0.06209109\n",
      " 0.06028339 0.05076634 0.04837448 0.03089909]\n",
      "Step 13\n",
      "    quant_pets  faixa_salarial  idade  peso  altura_do_pai  shadow_quant_pets  \\\n",
      "0            0            1000     30    86           1.68                  1   \n",
      "1            0            2000     30    79           1.40                  0   \n",
      "2            0            2500     52    87           1.72                  2   \n",
      "3            0            2600     25    63           1.79                  1   \n",
      "4            0            3000     39    74           1.70                  0   \n",
      "5            1            3001     43    83           1.58                  2   \n",
      "6            1            4001     48    76           1.74                  0   \n",
      "7            1            4001     45    84           1.67                  0   \n",
      "8            1            4001     43    76           1.57                  1   \n",
      "9            1            4601     45    75           1.55                  1   \n",
      "10           2            4502     60    85           1.69                  1   \n",
      "11           1            6071     23    85           1.57                  1   \n",
      "12           2            5002     20    78           1.58                  2   \n",
      "13           1            3001     39    91           1.75                  0   \n",
      "14           2            4002     40    76           1.72                  1   \n",
      "\n",
      "    shadow_faixa_salarial  shadow_idade  shadow_peso  shadow_altura_do_pai  \n",
      "0                    4001            25           78                  1.72  \n",
      "1                    3001            43           84                  1.55  \n",
      "2                    4502            48           87                  1.40  \n",
      "3                    4001            39           85                  1.70  \n",
      "4                    6071            60           85                  1.72  \n",
      "5                    3001            45           74                  1.79  \n",
      "6                    4601            43           76                  1.67  \n",
      "7                    2500            23           91                  1.68  \n",
      "8                    5002            40           76                  1.57  \n",
      "9                    1000            30           76                  1.69  \n",
      "10                   4001            20           83                  1.57  \n",
      "11                   2000            30           86                  1.58  \n",
      "12                   4002            39           75                  1.74  \n",
      "13                   3000            45           63                  1.58  \n",
      "14                   2600            52           79                  1.75  \n"
     ]
    },
    {
     "name": "stdout",
     "output_type": "stream",
     "text": [
      "[0.172637   0.3677382  0.06291192 0.07106644 0.03463641 0.01707555\n",
      " 0.05566974 0.0957678  0.0755247  0.04697224]\n",
      "Step 14\n",
      "    quant_pets  faixa_salarial  idade  peso  altura_do_pai  shadow_quant_pets  \\\n",
      "0            0            1000     30    86           1.68                  2   \n",
      "1            0            2000     30    79           1.40                  0   \n",
      "2            0            2500     52    87           1.72                  1   \n",
      "3            0            2600     25    63           1.79                  1   \n",
      "4            0            3000     39    74           1.70                  2   \n",
      "5            1            3001     43    83           1.58                  0   \n",
      "6            1            4001     48    76           1.74                  1   \n",
      "7            1            4001     45    84           1.67                  1   \n",
      "8            1            4001     43    76           1.57                  0   \n",
      "9            1            4601     45    75           1.55                  1   \n",
      "10           2            4502     60    85           1.69                  2   \n",
      "11           1            6071     23    85           1.57                  1   \n",
      "12           2            5002     20    78           1.58                  1   \n",
      "13           1            3001     39    91           1.75                  0   \n",
      "14           2            4002     40    76           1.72                  0   \n",
      "\n",
      "    shadow_faixa_salarial  shadow_idade  shadow_peso  shadow_altura_do_pai  \n",
      "0                    4002            43           85                  1.74  \n",
      "1                    3001            52           83                  1.58  \n",
      "2                    6071            45           76                  1.40  \n",
      "3                    2000            25           74                  1.72  \n",
      "4                    4001            30           91                  1.70  \n",
      "5                    2600            45           78                  1.55  \n",
      "6                    4001            43           84                  1.68  \n",
      "7                    5002            39           85                  1.72  \n",
      "8                    3001            40           76                  1.57  \n",
      "9                    4502            20           87                  1.75  \n",
      "10                   2500            60           79                  1.58  \n",
      "11                   1000            39           76                  1.69  \n",
      "12                   4601            30           75                  1.79  \n",
      "13                   4001            23           86                  1.57  \n",
      "14                   3000            48           63                  1.67  \n",
      "[0.18236814 0.39001924 0.06814797 0.07810573 0.04355013 0.01793046\n",
      " 0.05381247 0.04260283 0.03091885 0.09254418]\n",
      "Step 15\n",
      "    quant_pets  faixa_salarial  idade  peso  altura_do_pai  shadow_quant_pets  \\\n",
      "0            0            1000     30    86           1.68                  1   \n",
      "1            0            2000     30    79           1.40                  0   \n",
      "2            0            2500     52    87           1.72                  0   \n",
      "3            0            2600     25    63           1.79                  0   \n",
      "4            0            3000     39    74           1.70                  0   \n",
      "5            1            3001     43    83           1.58                  0   \n",
      "6            1            4001     48    76           1.74                  1   \n",
      "7            1            4001     45    84           1.67                  2   \n",
      "8            1            4001     43    76           1.57                  2   \n",
      "9            1            4601     45    75           1.55                  1   \n",
      "10           2            4502     60    85           1.69                  1   \n",
      "11           1            6071     23    85           1.57                  1   \n",
      "12           2            5002     20    78           1.58                  1   \n",
      "13           1            3001     39    91           1.75                  2   \n",
      "14           2            4002     40    76           1.72                  1   \n",
      "\n",
      "    shadow_faixa_salarial  shadow_idade  shadow_peso  shadow_altura_do_pai  \n",
      "0                    4601            20           84                  1.72  \n",
      "1                    4001            30           83                  1.55  \n",
      "2                    4001            30           91                  1.67  \n",
      "3                    3000            25           76                  1.70  \n",
      "4                    4001            39           74                  1.57  \n",
      "5                    2500            52           79                  1.69  \n",
      "6                    1000            48           76                  1.57  \n",
      "7                    6071            43           78                  1.72  \n",
      "8                    4002            43           63                  1.68  \n",
      "9                    4502            45           87                  1.79  \n",
      "10                   3001            60           75                  1.74  \n",
      "11                   2000            40           85                  1.58  \n",
      "12                   3001            23           85                  1.40  \n",
      "13                   2600            39           76                  1.58  \n",
      "14                   5002            45           86                  1.75  \n",
      "[0.13358378 0.32469554 0.06418506 0.07322164 0.02707781 0.09542577\n",
      " 0.05856274 0.16553088 0.0178584  0.03985837]\n",
      "Step 16\n",
      "    quant_pets  faixa_salarial  idade  peso  altura_do_pai  shadow_quant_pets  \\\n",
      "0            0            1000     30    86           1.68                  0   \n",
      "1            0            2000     30    79           1.40                  2   \n",
      "2            0            2500     52    87           1.72                  2   \n",
      "3            0            2600     25    63           1.79                  0   \n",
      "4            0            3000     39    74           1.70                  1   \n",
      "5            1            3001     43    83           1.58                  0   \n",
      "6            1            4001     48    76           1.74                  1   \n",
      "7            1            4001     45    84           1.67                  1   \n",
      "8            1            4001     43    76           1.57                  1   \n",
      "9            1            4601     45    75           1.55                  0   \n",
      "10           2            4502     60    85           1.69                  0   \n",
      "11           1            6071     23    85           1.57                  1   \n",
      "12           2            5002     20    78           1.58                  2   \n",
      "13           1            3001     39    91           1.75                  1   \n",
      "14           2            4002     40    76           1.72                  1   \n",
      "\n",
      "    shadow_faixa_salarial  shadow_idade  shadow_peso  shadow_altura_do_pai  \n",
      "0                    3001            45           76                  1.57  \n",
      "1                    2000            48           76                  1.74  \n",
      "2                    5002            60           76                  1.58  \n",
      "3                    4001            43           85                  1.67  \n",
      "4                    2600            20           83                  1.72  \n",
      "5                    1000            30           85                  1.58  \n",
      "6                    4502            23           63                  1.69  \n",
      "7                    2500            25           78                  1.75  \n",
      "8                    4001            40           79                  1.40  \n",
      "9                    6071            39           87                  1.57  \n",
      "10                   3001            43           86                  1.72  \n",
      "11                   4601            30           75                  1.68  \n",
      "12                   4001            39           74                  1.70  \n",
      "13                   4002            45           84                  1.79  \n",
      "14                   3000            52           91                  1.55  \n",
      "[0.17438502 0.38147106 0.06625204 0.08667276 0.04186316 0.01288162\n",
      " 0.09067148 0.06587071 0.04814476 0.0317874 ]\n",
      "Step 17\n",
      "    quant_pets  faixa_salarial  idade  peso  altura_do_pai  shadow_quant_pets  \\\n",
      "0            0            1000     30    86           1.68                  1   \n",
      "1            0            2000     30    79           1.40                  1   \n",
      "2            0            2500     52    87           1.72                  1   \n",
      "3            0            2600     25    63           1.79                  1   \n",
      "4            0            3000     39    74           1.70                  0   \n",
      "5            1            3001     43    83           1.58                  2   \n",
      "6            1            4001     48    76           1.74                  1   \n",
      "7            1            4001     45    84           1.67                  0   \n",
      "8            1            4001     43    76           1.57                  0   \n",
      "9            1            4601     45    75           1.55                  1   \n",
      "10           2            4502     60    85           1.69                  0   \n",
      "11           1            6071     23    85           1.57                  2   \n",
      "12           2            5002     20    78           1.58                  0   \n",
      "13           1            3001     39    91           1.75                  2   \n",
      "14           2            4002     40    76           1.72                  1   \n",
      "\n",
      "    shadow_faixa_salarial  shadow_idade  shadow_peso  shadow_altura_do_pai  \n",
      "0                    3001            23           63                  1.55  \n",
      "1                    4001            60           79                  1.58  \n",
      "2                    4001            25           87                  1.67  \n",
      "3                    2000            39           91                  1.40  \n",
      "4                    4601            40           85                  1.72  \n",
      "5                    3001            52           83                  1.68  \n",
      "6                    6071            45           75                  1.69  \n",
      "7                    1000            20           85                  1.57  \n",
      "8                    4002            43           86                  1.70  \n",
      "9                    3000            45           74                  1.72  \n",
      "10                   4001            30           84                  1.75  \n",
      "11                   2500            48           76                  1.74  \n",
      "12                   5002            39           78                  1.57  \n",
      "13                   2600            43           76                  1.58  \n",
      "14                   4502            30           76                  1.79  \n"
     ]
    },
    {
     "name": "stdout",
     "output_type": "stream",
     "text": [
      "[0.15074223 0.36739739 0.07016693 0.0910317  0.0344861  0.03736592\n",
      " 0.04648018 0.04855496 0.04591409 0.10786052]\n",
      "Step 18\n",
      "    quant_pets  faixa_salarial  idade  peso  altura_do_pai  shadow_quant_pets  \\\n",
      "0            0            1000     30    86           1.68                  2   \n",
      "1            0            2000     30    79           1.40                  1   \n",
      "2            0            2500     52    87           1.72                  1   \n",
      "3            0            2600     25    63           1.79                  0   \n",
      "4            0            3000     39    74           1.70                  2   \n",
      "5            1            3001     43    83           1.58                  0   \n",
      "6            1            4001     48    76           1.74                  2   \n",
      "7            1            4001     45    84           1.67                  0   \n",
      "8            1            4001     43    76           1.57                  1   \n",
      "9            1            4601     45    75           1.55                  1   \n",
      "10           2            4502     60    85           1.69                  0   \n",
      "11           1            6071     23    85           1.57                  1   \n",
      "12           2            5002     20    78           1.58                  1   \n",
      "13           1            3001     39    91           1.75                  0   \n",
      "14           2            4002     40    76           1.72                  1   \n",
      "\n",
      "    shadow_faixa_salarial  shadow_idade  shadow_peso  shadow_altura_do_pai  \n",
      "0                    6071            43           84                  1.79  \n",
      "1                    3001            25           87                  1.58  \n",
      "2                    4002            39           85                  1.75  \n",
      "3                    4001            23           76                  1.67  \n",
      "4                    2600            45           83                  1.58  \n",
      "5                    4001            43           86                  1.68  \n",
      "6                    5002            40           76                  1.55  \n",
      "7                    2500            20           76                  1.72  \n",
      "8                    3001            30           74                  1.74  \n",
      "9                    1000            48           75                  1.57  \n",
      "10                   4001            45           91                  1.57  \n",
      "11                   3000            39           79                  1.40  \n",
      "12                   4601            52           85                  1.70  \n",
      "13                   2000            30           63                  1.69  \n",
      "14                   4502            60           78                  1.72  \n",
      "[0.15585091 0.38008007 0.07763204 0.08338287 0.04439033 0.01370748\n",
      " 0.02922063 0.06287115 0.03695385 0.11591067]\n",
      "Step 19\n",
      "    quant_pets  faixa_salarial  idade  peso  altura_do_pai  shadow_quant_pets  \\\n",
      "0            0            1000     30    86           1.68                  1   \n",
      "1            0            2000     30    79           1.40                  2   \n",
      "2            0            2500     52    87           1.72                  1   \n",
      "3            0            2600     25    63           1.79                  2   \n",
      "4            0            3000     39    74           1.70                  1   \n",
      "5            1            3001     43    83           1.58                  0   \n",
      "6            1            4001     48    76           1.74                  1   \n",
      "7            1            4001     45    84           1.67                  1   \n",
      "8            1            4001     43    76           1.57                  0   \n",
      "9            1            4601     45    75           1.55                  1   \n",
      "10           2            4502     60    85           1.69                  0   \n",
      "11           1            6071     23    85           1.57                  2   \n",
      "12           2            5002     20    78           1.58                  1   \n",
      "13           1            3001     39    91           1.75                  0   \n",
      "14           2            4002     40    76           1.72                  0   \n",
      "\n",
      "    shadow_faixa_salarial  shadow_idade  shadow_peso  shadow_altura_do_pai  \n",
      "0                    2500            30           76                  1.57  \n",
      "1                    6071            43           85                  1.72  \n",
      "2                    3001            40           79                  1.67  \n",
      "3                    4002            23           63                  1.68  \n",
      "4                    2000            45           83                  1.40  \n",
      "5                    4001            20           75                  1.75  \n",
      "6                    4601            45           87                  1.79  \n",
      "7                    3001            52           76                  1.58  \n",
      "8                    3000            43           84                  1.70  \n",
      "9                    1000            39           78                  1.69  \n",
      "10                   5002            30           74                  1.74  \n",
      "11                   4502            60           86                  1.72  \n",
      "12                   2600            48           85                  1.55  \n",
      "13                   4001            39           76                  1.57  \n",
      "14                   4001            25           91                  1.58  \n",
      "[0.16457035 0.38738349 0.09799524 0.07455366 0.04997915 0.01477273\n",
      " 0.03549013 0.07310691 0.07219346 0.02995487]\n",
      "Step 20\n",
      "    quant_pets  faixa_salarial  idade  peso  altura_do_pai  shadow_quant_pets  \\\n",
      "0            0            1000     30    86           1.68                  2   \n",
      "1            0            2000     30    79           1.40                  1   \n",
      "2            0            2500     52    87           1.72                  1   \n",
      "3            0            2600     25    63           1.79                  0   \n",
      "4            0            3000     39    74           1.70                  0   \n",
      "5            1            3001     43    83           1.58                  1   \n",
      "6            1            4001     48    76           1.74                  2   \n",
      "7            1            4001     45    84           1.67                  1   \n",
      "8            1            4001     43    76           1.57                  0   \n",
      "9            1            4601     45    75           1.55                  1   \n",
      "10           2            4502     60    85           1.69                  2   \n",
      "11           1            6071     23    85           1.57                  1   \n",
      "12           2            5002     20    78           1.58                  1   \n",
      "13           1            3001     39    91           1.75                  0   \n",
      "14           2            4002     40    76           1.72                  0   \n",
      "\n",
      "    shadow_faixa_salarial  shadow_idade  shadow_peso  shadow_altura_do_pai  \n",
      "0                    3000            45           74                  1.68  \n",
      "1                    4001            43           85                  1.70  \n",
      "2                    4502            25           78                  1.58  \n",
      "3                    2500            23           79                  1.79  \n",
      "4                    2600            30           84                  1.69  \n",
      "5                    1000            60           76                  1.67  \n",
      "6                    4001            45           76                  1.57  \n",
      "7                    6071            39           87                  1.75  \n",
      "8                    5002            40           63                  1.55  \n",
      "9                    4001            20           91                  1.57  \n",
      "10                   4002            30           86                  1.40  \n",
      "11                   3001            39           85                  1.72  \n",
      "12                   4601            43           75                  1.58  \n",
      "13                   2000            52           76                  1.72  \n",
      "14                   3001            48           83                  1.74  \n",
      "[0.16421876 0.34504614 0.05881782 0.0607004  0.02702294 0.\n",
      " 0.17659566 0.08161611 0.02679316 0.05918901]\n",
      "[16. 20.  7.  9.  0.]\n"
     ]
    },
    {
     "data": {
      "text/html": [
       "<div>\n",
       "<style scoped>\n",
       "    .dataframe tbody tr th:only-of-type {\n",
       "        vertical-align: middle;\n",
       "    }\n",
       "\n",
       "    .dataframe tbody tr th {\n",
       "        vertical-align: top;\n",
       "    }\n",
       "\n",
       "    .dataframe thead tr th {\n",
       "        text-align: left;\n",
       "    }\n",
       "</style>\n",
       "<table border=\"1\" class=\"dataframe\">\n",
       "  <thead>\n",
       "    <tr>\n",
       "      <th></th>\n",
       "      <th>quant_pets</th>\n",
       "      <th>faixa_salarial</th>\n",
       "      <th>idade</th>\n",
       "      <th>peso</th>\n",
       "      <th>altura_do_pai</th>\n",
       "    </tr>\n",
       "  </thead>\n",
       "  <tbody>\n",
       "    <tr>\n",
       "      <th>0</th>\n",
       "      <td>16.0</td>\n",
       "      <td>20.0</td>\n",
       "      <td>7.0</td>\n",
       "      <td>9.0</td>\n",
       "      <td>0.0</td>\n",
       "    </tr>\n",
       "  </tbody>\n",
       "</table>\n",
       "</div>"
      ],
      "text/plain": [
       "  quant_pets faixa_salarial idade peso altura_do_pai\n",
       "0       16.0           20.0   7.0  9.0           0.0"
      ]
     },
     "execution_count": 857,
     "metadata": {},
     "output_type": "execute_result"
    }
   ],
   "source": [
    "boruta = borutaAlgorithm(max_steps=20, x = x, y = y)\n",
    "list_of_sucess = boruta.findBestFeatures()\n",
    "print(list_of_sucess)\n",
    "list_of_sucess = list_of_sucess.reshape((1,5))\n",
    "\n",
    "df_of_sucess = pd.DataFrame(list_of_sucess, columns=[x.columns])\n",
    "df_of_sucess"
   ]
  },
  {
   "cell_type": "markdown",
   "metadata": {},
   "source": [
    "# Decisão de manter ou excluir as features"
   ]
  },
  {
   "cell_type": "markdown",
   "metadata": {},
   "source": [
    "Em cada iteração cada feature poderia ter ganhado das features shadow ou perdido para elas. Vamos supor <br>\n",
    "que nós não temos nenhum conhecimento prévio acerca das features, logo há uma chance de 50% dela ganhar e 50% <br>\n",
    "de perder.\n",
    "\n",
    "Se a feature é de fato relevante ela irá ganhar com mais frequência, pois as features shadow são arbitrárias e sem <br>\n",
    "correlação com a variável resposta.\n",
    "\n",
    "Como nesse experimento só há duas possibilidades: ganhar ou perder, ele recebe o nome de Ensaio de Bernoulli, <br>\n",
    "porém iteramos 20 vezes, ou seja, foram feitos 20 Ensaios de Bernoulli sucessivos, isso caracteriza a <br>\n",
    "distribuição binomial.\n",
    "\n",
    "Uma distribuição binomial com n=20 e p=0.5 possui a seguinte cara:"
   ]
  },
  {
   "cell_type": "code",
   "execution_count": 565,
   "metadata": {
    "ExecuteTime": {
     "end_time": "2021-02-20T00:46:49.190182Z",
     "start_time": "2021-02-20T00:46:48.890849Z"
    },
    "hide_input": true
   },
   "outputs": [
    {
     "data": {
      "image/png": "[encoded data removed]",
      "text/plain": [
       "<Figure size 864x432 with 1 Axes>"
      ]
     },
     "metadata": {
      "needs_background": "light"
     },
     "output_type": "display_data"
    }
   ],
   "source": [
    "n = 20\n",
    "p = 0.5\n",
    "\n",
    "binomial_values = list( np.arange(n+1) )\n",
    "dist = [ binom.pmf(val, n, p) for val in binomial_values]\n",
    "\n",
    "plt.figure(figsize=(12,6))\n",
    "plt.title('Distribuição Binomial n=20 p=0.5')\n",
    "plt.xlabel('Número de sucessos (x)')\n",
    "plt.ylabel('P(x)')\n",
    "sns.barplot(binomial_values, dist);"
   ]
  },
  {
   "cell_type": "markdown",
   "metadata": {
    "hide_input": true
   },
   "source": [
    "Sendo X ~ Bin(n,p) uma variável aleatória que representa o número de sucessos obtidos, P(X <= 4) = P(X >= 16 ) = 0.005908 ~ 0,6%"
   ]
  },
  {
   "cell_type": "code",
   "execution_count": 567,
   "metadata": {
    "ExecuteTime": {
     "end_time": "2021-02-20T00:51:09.680469Z",
     "start_time": "2021-02-20T00:51:09.669467Z"
    }
   },
   "outputs": [
    {
     "data": {
      "text/plain": [
       "0.02069473266601554"
      ]
     },
     "execution_count": 567,
     "metadata": {},
     "output_type": "execute_result"
    }
   ],
   "source": [
    "prob = 0\n",
    "for i in range(6):\n",
    "    prob = prob + dist[i]\n",
    "prob"
   ]
  },
  {
   "cell_type": "markdown",
   "metadata": {},
   "source": [
    "# Teste de Hipótese"
   ]
  },
  {
   "cell_type": "markdown",
   "metadata": {},
   "source": [
    "Vamos realizar um teste de hipótese de uma calda, utilizando pvalor = 0.01\n",
    "\n",
    "**H0: A feature a1 não apresenta relevância para o modelo**\n",
    "\n",
    "**H1: A feature a1 apresenta relevância para o modelo**\n",
    "\n",
    "A região crítica, que neste exemplo contém 1% dos dados, possui seu início entre x=15 e x=16, e estende-se até\n",
    "x=20."
   ]
  },
  {
   "cell_type": "markdown",
   "metadata": {
    "ExecuteTime": {
     "end_time": "2021-02-20T00:57:07.782667Z",
     "start_time": "2021-02-20T00:57:07.777954Z"
    }
   },
   "source": [
    "Como a feature a1 apresentou 16 sucessos, ela está localizada na região crítica, e portanto <br>\n",
    "há evidência para rejeitarmos H0, ou seja, há evidência para considerarmos a feature a1 como <br>\n",
    "relevante para o modelo, dizemos isso com um intervalo de confiança de 99%."
   ]
  },
  {
   "cell_type": "markdown",
   "metadata": {},
   "source": [
    "# Bibliografia"
   ]
  },
  {
   "cell_type": "markdown",
   "metadata": {},
   "source": [
    " An introduction to feature selection - https://machinelearningmastery.com/an-introduction-to-feature-selection/"
   ]
  },
  {
   "cell_type": "code",
   "execution_count": null,
   "metadata": {},
   "outputs": [],
   "source": []
  },
  {
   "cell_type": "code",
   "execution_count": null,
   "metadata": {},
   "outputs": [],
   "source": []
  },
  {
   "cell_type": "code",
   "execution_count": null,
   "metadata": {},
   "outputs": [],
   "source": []
  },
  {
   "cell_type": "code",
   "execution_count": null,
   "metadata": {},
   "outputs": [],
   "source": []
  },
  {
   "cell_type": "code",
   "execution_count": null,
   "metadata": {},
   "outputs": [],
   "source": []
  }
 ],
 "metadata": {
  "kernelspec": {
   "display_name": "Python 3",
   "language": "python",
   "name": "python3"
  },
  "language_info": {
   "codemirror_mode": {
    "name": "ipython",
    "version": 3
   },
   "file_extension": ".py",
   "mimetype": "text/x-python",
   "name": "python",
   "nbconvert_exporter": "python",
   "pygments_lexer": "ipython3",
   "version": "3.6.9"
  }
 },
 "nbformat": 4,
 "nbformat_minor": 4
}
