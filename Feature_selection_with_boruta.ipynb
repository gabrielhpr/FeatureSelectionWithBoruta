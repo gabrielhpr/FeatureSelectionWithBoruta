{
 "cells": [
  {
   "cell_type": "markdown",
   "metadata": {
    "heading_collapsed": true
   },
   "source": [
    "# IMPORTS"
   ]
  },
  {
   "cell_type": "code",
   "execution_count": 932,
   "metadata": {
    "ExecuteTime": {
     "end_time": "2021-02-20T15:48:49.636339Z",
     "start_time": "2021-02-20T15:48:49.602257Z"
    },
    "hidden": true
   },
   "outputs": [
    {
     "data": {
      "text/html": [
       "<style>.container { width:100% !important; }</style>"
      ],
      "text/plain": [
       "<IPython.core.display.HTML object>"
      ]
     },
     "metadata": {},
     "output_type": "display_data"
    },
    {
     "data": {
      "text/html": [
       "<style>h1 { font-size:23px !important; }</style>"
      ],
      "text/plain": [
       "<IPython.core.display.HTML object>"
      ]
     },
     "metadata": {},
     "output_type": "display_data"
    },
    {
     "data": {
      "text/html": [
       "<style>h2 { font-size:20px !important; }</style>"
      ],
      "text/plain": [
       "<IPython.core.display.HTML object>"
      ]
     },
     "metadata": {},
     "output_type": "display_data"
    },
    {
     "data": {
      "text/html": [
       "<style>h3 { font-size:17px !important; }</style>"
      ],
      "text/plain": [
       "<IPython.core.display.HTML object>"
      ]
     },
     "metadata": {},
     "output_type": "display_data"
    },
    {
     "data": {
      "text/html": [
       "<style>h4 { font-size:16px !important; }</style>"
      ],
      "text/plain": [
       "<IPython.core.display.HTML object>"
      ]
     },
     "metadata": {},
     "output_type": "display_data"
    },
    {
     "data": {
      "text/html": [
       "<style>p { font-size:16px !important; }</style>"
      ],
      "text/plain": [
       "<IPython.core.display.HTML object>"
      ]
     },
     "metadata": {},
     "output_type": "display_data"
    },
    {
     "data": {
      "text/html": [
       "<style>th { font-size:15px !important; }</style>"
      ],
      "text/plain": [
       "<IPython.core.display.HTML object>"
      ]
     },
     "metadata": {},
     "output_type": "display_data"
    },
    {
     "data": {
      "text/html": [
       "<style>td { font-size:15px !important; }</style>"
      ],
      "text/plain": [
       "<IPython.core.display.HTML object>"
      ]
     },
     "metadata": {},
     "output_type": "display_data"
    },
    {
     "data": {
      "text/html": [
       "<style>span { font-size:16px !important; }</style>"
      ],
      "text/plain": [
       "<IPython.core.display.HTML object>"
      ]
     },
     "metadata": {},
     "output_type": "display_data"
    }
   ],
   "source": [
    "import pandas as pd\n",
    "import seaborn as sns\n",
    "import matplotlib.pyplot as plt\n",
    "import numpy as np\n",
    "from sklearn.ensemble import RandomForestClassifier\n",
    "from scipy.stats import binom\n",
    "from IPython.display         import Image\n",
    "\n",
    "\n",
    "import warnings\n",
    "warnings.filterwarnings('ignore')\n",
    "\n",
    "###--------- PANDAS - EXIBIR TODAS COLUNAS ----###\n",
    "\n",
    "pd.set_option('display.max_columns', None)\n",
    "\n",
    "\n",
    "###--------- ESTILIZAÇÃO DO NOTEBOOK ---------###\n",
    "\n",
    "from IPython.core.display import display, HTML\n",
    "\n",
    "# retira a margem do notebook\n",
    "display(HTML(\"<style>.container { width:100% !important; }</style>\"))\n",
    "\n",
    "# font do texto markdown\n",
    "display(HTML(\"<style>h1 { font-size:23px !important; }</style>\"))\n",
    "display(HTML(\"<style>h2 { font-size:20px !important; }</style>\"))\n",
    "display(HTML(\"<style>h3 { font-size:17px !important; }</style>\"))\n",
    "display(HTML(\"<style>h4 { font-size:16px !important; }</style>\"))\n",
    "display(HTML(\"<style>p { font-size:16px !important; }</style>\"))\n",
    "\n",
    "# tamanho da fonte da tabela\n",
    "display(HTML(\"<style>th { font-size:15px !important; }</style>\"))\n",
    "display(HTML(\"<style>td { font-size:15px !important; }</style>\"))\n",
    "\n",
    "# font do codigo \n",
    "display(HTML(\"<style>span { font-size:16px !important; }</style>\"))"
   ]
  },
  {
   "cell_type": "markdown",
   "metadata": {},
   "source": [
    "# Introdução"
   ]
  },
  {
   "cell_type": "markdown",
   "metadata": {},
   "source": [
    "Se você realizou uma boa coleta e limpeza de dados, e quer melhorar ainda mais a acurácia do seu modelo,<br>\n",
    "ou talvez reduzir o seu tempo de treinamento, a Seleção de Features é o caminho ideal para você. \n",
    "\n",
    "Por meio desse processo é possível selecionar as variáveis mais relevantes para o seu modelo, eliminando <br>\n",
    "as features que não agregam para a predição do problema.\n"
   ]
  },
  {
   "cell_type": "markdown",
   "metadata": {},
   "source": [
    "# Por que selecionar features ?"
   ]
  },
  {
   "cell_type": "markdown",
   "metadata": {},
   "source": [
    "**1-)** <b>Ganho de velocidade no treinamento do modelo</b>. Ao eliminar features não relevantes <br>\n",
    "ocorre uma redução de dimensionalidade do problema, reduzindo o tempo de treinamento.\n",
    "\n",
    "**2-)** <b>Melhora da performance do modelo</b>. Ao remover as features que não contribuem para a <br>\n",
    "predição do modelo, tornamos o nosso modelo mais simples e, consequentemente, reduzimos o ruído dos <br>\n",
    "nossos dados e a chance de ocorrer overfitting."
   ]
  },
  {
   "cell_type": "markdown",
   "metadata": {
    "ExecuteTime": {
     "end_time": "2021-02-19T18:33:31.576284Z",
     "start_time": "2021-02-19T18:33:31.561557Z"
    }
   },
   "source": [
    "# Seleção de Features vs Redução de Dimensionalidade"
   ]
  },
  {
   "cell_type": "markdown",
   "metadata": {
    "ExecuteTime": {
     "end_time": "2021-02-20T16:39:32.094376Z",
     "start_time": "2021-02-20T16:39:32.084184Z"
    }
   },
   "source": [
    "A Seleção de Features consiste basicamente de selecionar e excluir features, sem alterar <br>\n",
    "nenhuma delas, já a Redução de Dimensionalidade realiza transformações nas features para <br>\n",
    "obter o mesmo efeito."
   ]
  },
  {
   "cell_type": "markdown",
   "metadata": {},
   "source": [
    "# Métodos de Seleção de Features"
   ]
  },
  {
   "cell_type": "markdown",
   "metadata": {},
   "source": [
    "Os principais métodos de seleção de Features se agrupam em 3 tipos: <b>Filter Methods</b>, <b>Wrapper Methods</b> e <b>Embedded Methods</b>. "
   ]
  },
  {
   "cell_type": "markdown",
   "metadata": {},
   "source": [
    "## 1-) Filter Methods"
   ]
  },
  {
   "cell_type": "markdown",
   "metadata": {},
   "source": [
    "Métodos de filtragem aplicam medidas estatísticas para atribuir uma pontuação para cada feature.\n",
    "\n",
    "Exemplo: correlação de Pearson (no caso de variáveis contínuas)."
   ]
  },
  {
   "cell_type": "markdown",
   "metadata": {
    "ExecuteTime": {
     "end_time": "2021-02-19T18:25:29.496946Z",
     "start_time": "2021-02-19T18:25:29.493730Z"
    }
   },
   "source": [
    "## 2-) Wrapper Methods"
   ]
  },
  {
   "cell_type": "markdown",
   "metadata": {},
   "source": [
    "São métodos que consideram a seleção de um conjunto de features como um problema de busca <br>\n",
    "no qual diferentes combinações de features são preparadas, calculadas e comparadas <br>\n",
    "com outras combinações de features.\n",
    "\n",
    "Exemplo: Boruta"
   ]
  },
  {
   "cell_type": "markdown",
   "metadata": {},
   "source": [
    "## 3-) Embedded Methods"
   ]
  },
  {
   "cell_type": "markdown",
   "metadata": {
    "ExecuteTime": {
     "end_time": "2021-02-20T16:32:31.704188Z",
     "start_time": "2021-02-20T16:32:31.698532Z"
    }
   },
   "source": [
    "São métodos que aprendem sobre quais features contribuem para a acurácia do modelo<br>\n",
    "enquanto este está sendo criado.\n",
    "\n",
    "Exemplo: Random Forest, XGBoost, LASSO."
   ]
  },
  {
   "cell_type": "markdown",
   "metadata": {
    "ExecuteTime": {
     "end_time": "2021-02-19T18:32:52.080116Z",
     "start_time": "2021-02-19T18:32:52.070011Z"
    }
   },
   "source": [
    "# Algoritmo Boruta"
   ]
  },
  {
   "cell_type": "markdown",
   "metadata": {
    "ExecuteTime": {
     "end_time": "2021-02-19T18:37:53.076550Z",
     "start_time": "2021-02-19T18:37:53.071254Z"
    }
   },
   "source": [
    "O algoritmo Boruta é um Wrapper Method, que seleciona automaticamente as features mais relevantes <br>\n",
    "para o seu modelo. Uma grande dificuldade de outros métodos de Seleção de Features é a definição <br>\n",
    "de um limite para determinar qual feature é ou não relevante, esse algoritmo resolve isso para você.\n",
    "\n",
    "Para entender melhor o porquê desse algoritmo ser um ótimo selecionador de features relevantes, <br> \n",
    "vamos implementá-lo do zero. Para fins didáticos vamos criar um cenário hipotético, com dados fictícios."
   ]
  },
  {
   "cell_type": "markdown",
   "metadata": {
    "ExecuteTime": {
     "end_time": "2021-02-19T16:51:03.499390Z",
     "start_time": "2021-02-19T16:51:03.489179Z"
    }
   },
   "source": [
    "# Cenário Hipotético"
   ]
  },
  {
   "cell_type": "markdown",
   "metadata": {
    "ExecuteTime": {
     "end_time": "2021-02-19T16:50:26.629849Z",
     "start_time": "2021-02-19T16:50:26.620138Z"
    }
   },
   "source": [
    "Uma loja de acessórios para pets fez uma pesquisa com algumas pessoas para determinar quais <br>\n",
    "delas estariam interessadas nos produtos dessa loja.\n",
    "\n",
    "A partir da pesquisa foram obtidos os seguintes dados: \n",
    "\n",
    "**1-)** A quantidade de pets que a pessoa tem.\n",
    "\n",
    "**2-)** O salário.\n",
    "\n",
    "**3-)** A idade.\n",
    "\n",
    "**4-)** O peso.\n",
    "\n",
    "**5-)** A altura do pai.\n",
    "\n",
    "**6-)** Se a pessoa apresenta interesse em comprar um produto para seu pet."
   ]
  },
  {
   "cell_type": "markdown",
   "metadata": {},
   "source": [
    "## Intuição"
   ]
  },
  {
   "cell_type": "markdown",
   "metadata": {},
   "source": [
    "Seguindo a nossa intuição, há uma suspeita de que a <b>quantidade de pets</b> que a pessoa tem <br>\n",
    "é uma informação relevante para o modelo, e que a <b>altura do pai da pessoa</b> não tem valor <br> \n",
    "nenhum para a nossa predição.\n",
    "\n",
    "Vale lembrar que o nosso dataset contém apenas 5 features, mas o que aconteceria se tivéssemos <br>\n",
    "dezenas, senão centenas de variáveis para analisar ? Certamente perderíamos a capacidade de intuir <br>\n",
    "sobre todos os dados e surgiriam muitas dúvidas como:\n",
    "\n",
    "\n",
    "**1-)** Quais das features são relevantes para a modelagem do problema ?\n",
    "\n",
    "**2-)** Qual critério utilizar para selecionar as features mais relevantes ?"
   ]
  },
  {
   "cell_type": "markdown",
   "metadata": {
    "ExecuteTime": {
     "end_time": "2021-02-19T18:56:18.102154Z",
     "start_time": "2021-02-19T18:56:18.097393Z"
    }
   },
   "source": [
    "Vamos responder essas dúvidas com o algoritmo Boruta."
   ]
  },
  {
   "cell_type": "markdown",
   "metadata": {},
   "source": [
    "## Sobre os dados do problema"
   ]
  },
  {
   "cell_type": "markdown",
   "metadata": {},
   "source": [
    "O dataset criado apresenta 5 features, contendo as informações de 15 pessoas entrevistadas.\n",
    "\n",
    "A idade, o peso e a altura seguem o comportamento de uma distribuição normal e foram criadas <br>\n",
    "de modo a não influenciarem na variável resposta, já a quantidade de pets e a faixa salarial <br>\n",
    "foram construídas de modo a influenciar na variável target.\n",
    "\n",
    "Portanto, ao final do treinamento do Boruta é esperado que a quantidade de pets e a faixa <br>\n",
    "salarial sejam as features consideradas relevantes, e as demais descartadas."
   ]
  },
  {
   "cell_type": "markdown",
   "metadata": {
    "heading_collapsed": true
   },
   "source": [
    "### Detalhes acerca da criação do dataset"
   ]
  },
  {
   "cell_type": "code",
   "execution_count": 922,
   "metadata": {
    "ExecuteTime": {
     "end_time": "2021-02-20T15:23:46.639644Z",
     "start_time": "2021-02-20T15:23:46.608380Z"
    },
    "hidden": true,
    "hide_input": false
   },
   "outputs": [
    {
     "data": {
      "text/plain": [
       "\"\\nprint(y)\\n\\ndrop_quant_pets = x['quant_pets'].apply(lambda x: 0 if x < x['quant_pets'].mean() else 1)\\n\\n\\ny_mean = y.mean()\\nprint(y)\\ny_mean\\ny = pd.Series(y, name='interesse')\\ny = y.apply(lambda x: 0 if x < y_mean else 1)\\n\""
      ]
     },
     "execution_count": 922,
     "metadata": {},
     "output_type": "execute_result"
    }
   ],
   "source": [
    "# Vamos assumir que a idade, o peso e a altura da mãe estão normalmente distribuídos\n",
    "quant_pets = np.array([0,0,0,0,0,1,1,1,1,1,2,1,2,1,2])\n",
    "faixa_salarial = np.array([1000,2000,2500,2600,3000,3001,4001,4001,4001,4601,4502,6071,5002,3001,4002])\n",
    "faixa_salarial_mean = faixa_salarial.mean()\n",
    "#y = np.array([0,0,0,1,1,0,0,0,1,1,0,0,0,1,1])\n",
    "np.random.seed(57)\n",
    "idade = np.random.normal(40, 12, 15)\n",
    "peso =  np.random.normal(80, 10, 15)\n",
    "altura_do_pai = np.random.normal(1.70, 0, 15)\n",
    "\n",
    "# Convertendo a idade e o peso para números inteiros\n",
    "quant_pets = quant_pets.astype(int)\n",
    "faixa_salarial = faixa_salarial.astype(int)\n",
    "idade = idade.astype(int)\n",
    "peso = peso.astype(int)\n",
    "\n",
    "# Arredondando para duas casas decimais\n",
    "altura_do_pai = np.round( altura_do_pai, 2 )\n",
    "\n",
    "x = pd.DataFrame({\n",
    "                    'quant_pets': quant_pets,\n",
    "                    'faixa_salarial': faixa_salarial,\n",
    "                    'idade': idade,\n",
    "                    'peso': peso,\n",
    "                    'altura_do_pai': altura_do_pai\n",
    "    })\n",
    "\n",
    "\n",
    "\n",
    "y = np.zeros((15,)) + 1\n",
    "y = y * np.array( x['quant_pets'] )\n",
    "drop_salario = x['faixa_salarial'].apply(lambda x: 0 if x < faixa_salarial_mean else 1)\n",
    "y = y * drop_salario\n",
    "y = pd.Series(y, name='interesse')\n",
    "y = y.apply(lambda x: 0 if x==0 else 1)\n",
    "y\n",
    "\n",
    "'''\n",
    "print(y)\n",
    "\n",
    "drop_quant_pets = x['quant_pets'].apply(lambda x: 0 if x < x['quant_pets'].mean() else 1)\n",
    "\n",
    "\n",
    "y_mean = y.mean()\n",
    "print(y)\n",
    "y_mean\n",
    "y = pd.Series(y, name='interesse')\n",
    "y = y.apply(lambda x: 0 if x < y_mean else 1)\n",
    "'''"
   ]
  },
  {
   "cell_type": "markdown",
   "metadata": {},
   "source": [
    "### Conjunto de Features"
   ]
  },
  {
   "cell_type": "code",
   "execution_count": 923,
   "metadata": {
    "ExecuteTime": {
     "end_time": "2021-02-20T15:23:47.651737Z",
     "start_time": "2021-02-20T15:23:47.621463Z"
    }
   },
   "outputs": [
    {
     "data": {
      "text/html": [
       "<div>\n",
       "<style scoped>\n",
       "    .dataframe tbody tr th:only-of-type {\n",
       "        vertical-align: middle;\n",
       "    }\n",
       "\n",
       "    .dataframe tbody tr th {\n",
       "        vertical-align: top;\n",
       "    }\n",
       "\n",
       "    .dataframe thead th {\n",
       "        text-align: right;\n",
       "    }\n",
       "</style>\n",
       "<table border=\"1\" class=\"dataframe\">\n",
       "  <thead>\n",
       "    <tr style=\"text-align: right;\">\n",
       "      <th></th>\n",
       "      <th>quant_pets</th>\n",
       "      <th>faixa_salarial</th>\n",
       "      <th>idade</th>\n",
       "      <th>peso</th>\n",
       "      <th>altura_do_pai</th>\n",
       "    </tr>\n",
       "  </thead>\n",
       "  <tbody>\n",
       "    <tr>\n",
       "      <th>0</th>\n",
       "      <td>0</td>\n",
       "      <td>1000</td>\n",
       "      <td>38</td>\n",
       "      <td>78</td>\n",
       "      <td>1.7</td>\n",
       "    </tr>\n",
       "    <tr>\n",
       "      <th>1</th>\n",
       "      <td>0</td>\n",
       "      <td>2000</td>\n",
       "      <td>37</td>\n",
       "      <td>77</td>\n",
       "      <td>1.7</td>\n",
       "    </tr>\n",
       "    <tr>\n",
       "      <th>2</th>\n",
       "      <td>0</td>\n",
       "      <td>2500</td>\n",
       "      <td>19</td>\n",
       "      <td>75</td>\n",
       "      <td>1.7</td>\n",
       "    </tr>\n",
       "    <tr>\n",
       "      <th>3</th>\n",
       "      <td>0</td>\n",
       "      <td>2600</td>\n",
       "      <td>30</td>\n",
       "      <td>76</td>\n",
       "      <td>1.7</td>\n",
       "    </tr>\n",
       "    <tr>\n",
       "      <th>4</th>\n",
       "      <td>0</td>\n",
       "      <td>3000</td>\n",
       "      <td>58</td>\n",
       "      <td>79</td>\n",
       "      <td>1.7</td>\n",
       "    </tr>\n",
       "    <tr>\n",
       "      <th>5</th>\n",
       "      <td>1</td>\n",
       "      <td>3001</td>\n",
       "      <td>66</td>\n",
       "      <td>100</td>\n",
       "      <td>1.7</td>\n",
       "    </tr>\n",
       "    <tr>\n",
       "      <th>6</th>\n",
       "      <td>1</td>\n",
       "      <td>4001</td>\n",
       "      <td>8</td>\n",
       "      <td>75</td>\n",
       "      <td>1.7</td>\n",
       "    </tr>\n",
       "    <tr>\n",
       "      <th>7</th>\n",
       "      <td>1</td>\n",
       "      <td>4001</td>\n",
       "      <td>49</td>\n",
       "      <td>90</td>\n",
       "      <td>1.7</td>\n",
       "    </tr>\n",
       "    <tr>\n",
       "      <th>8</th>\n",
       "      <td>1</td>\n",
       "      <td>4001</td>\n",
       "      <td>60</td>\n",
       "      <td>86</td>\n",
       "      <td>1.7</td>\n",
       "    </tr>\n",
       "    <tr>\n",
       "      <th>9</th>\n",
       "      <td>1</td>\n",
       "      <td>4601</td>\n",
       "      <td>19</td>\n",
       "      <td>86</td>\n",
       "      <td>1.7</td>\n",
       "    </tr>\n",
       "    <tr>\n",
       "      <th>10</th>\n",
       "      <td>2</td>\n",
       "      <td>4502</td>\n",
       "      <td>36</td>\n",
       "      <td>91</td>\n",
       "      <td>1.7</td>\n",
       "    </tr>\n",
       "    <tr>\n",
       "      <th>11</th>\n",
       "      <td>1</td>\n",
       "      <td>6071</td>\n",
       "      <td>22</td>\n",
       "      <td>81</td>\n",
       "      <td>1.7</td>\n",
       "    </tr>\n",
       "    <tr>\n",
       "      <th>12</th>\n",
       "      <td>2</td>\n",
       "      <td>5002</td>\n",
       "      <td>28</td>\n",
       "      <td>91</td>\n",
       "      <td>1.7</td>\n",
       "    </tr>\n",
       "    <tr>\n",
       "      <th>13</th>\n",
       "      <td>1</td>\n",
       "      <td>3001</td>\n",
       "      <td>39</td>\n",
       "      <td>81</td>\n",
       "      <td>1.7</td>\n",
       "    </tr>\n",
       "    <tr>\n",
       "      <th>14</th>\n",
       "      <td>2</td>\n",
       "      <td>4002</td>\n",
       "      <td>31</td>\n",
       "      <td>66</td>\n",
       "      <td>1.7</td>\n",
       "    </tr>\n",
       "  </tbody>\n",
       "</table>\n",
       "</div>"
      ],
      "text/plain": [
       "    quant_pets  faixa_salarial  idade  peso  altura_do_pai\n",
       "0            0            1000     38    78            1.7\n",
       "1            0            2000     37    77            1.7\n",
       "2            0            2500     19    75            1.7\n",
       "3            0            2600     30    76            1.7\n",
       "4            0            3000     58    79            1.7\n",
       "5            1            3001     66   100            1.7\n",
       "6            1            4001      8    75            1.7\n",
       "7            1            4001     49    90            1.7\n",
       "8            1            4001     60    86            1.7\n",
       "9            1            4601     19    86            1.7\n",
       "10           2            4502     36    91            1.7\n",
       "11           1            6071     22    81            1.7\n",
       "12           2            5002     28    91            1.7\n",
       "13           1            3001     39    81            1.7\n",
       "14           2            4002     31    66            1.7"
      ]
     },
     "execution_count": 923,
     "metadata": {},
     "output_type": "execute_result"
    }
   ],
   "source": [
    "x"
   ]
  },
  {
   "cell_type": "markdown",
   "metadata": {},
   "source": [
    "### Variável Resposta"
   ]
  },
  {
   "cell_type": "code",
   "execution_count": 867,
   "metadata": {
    "ExecuteTime": {
     "end_time": "2021-02-20T15:10:57.196736Z",
     "start_time": "2021-02-20T15:10:57.172092Z"
    }
   },
   "outputs": [
    {
     "data": {
      "text/plain": [
       "0     0\n",
       "1     0\n",
       "2     0\n",
       "3     0\n",
       "4     0\n",
       "5     0\n",
       "6     1\n",
       "7     1\n",
       "8     1\n",
       "9     1\n",
       "10    1\n",
       "11    1\n",
       "12    1\n",
       "13    0\n",
       "14    1\n",
       "Name: interesse, dtype: int64"
      ]
     },
     "execution_count": 867,
     "metadata": {},
     "output_type": "execute_result"
    }
   ],
   "source": [
    "y"
   ]
  },
  {
   "cell_type": "markdown",
   "metadata": {},
   "source": [
    "# Algoritmo boruta Implementação"
   ]
  },
  {
   "cell_type": "markdown",
   "metadata": {},
   "source": [
    "O algoritmo pode ser resumido em 5 etapas."
   ]
  },
  {
   "cell_type": "code",
   "execution_count": 934,
   "metadata": {
    "ExecuteTime": {
     "end_time": "2021-02-20T15:49:16.368757Z",
     "start_time": "2021-02-20T15:49:16.352666Z"
    },
    "hide_input": true
   },
   "outputs": [
    {
     "data": {
      "image/png": "[encoded data removed]",
      "text/plain": [
       "<IPython.core.display.Image object>"
      ]
     },
     "execution_count": 934,
     "metadata": {},
     "output_type": "execute_result"
    }
   ],
   "source": [
    "Image('img/boruta_image.png')"
   ]
  },
  {
   "cell_type": "markdown",
   "metadata": {},
   "source": [
    "## 1-) Criação de shadow features"
   ]
  },
  {
   "cell_type": "markdown",
   "metadata": {},
   "source": [
    "A partir do dataset inicial, criamos uma cópia para cada feature e a renomeamos com a palavra shadow."
   ]
  },
  {
   "cell_type": "code",
   "execution_count": 858,
   "metadata": {
    "ExecuteTime": {
     "end_time": "2021-02-20T15:01:07.043398Z",
     "start_time": "2021-02-20T15:01:07.016740Z"
    }
   },
   "outputs": [
    {
     "data": {
      "text/html": [
       "<div>\n",
       "<style scoped>\n",
       "    .dataframe tbody tr th:only-of-type {\n",
       "        vertical-align: middle;\n",
       "    }\n",
       "\n",
       "    .dataframe tbody tr th {\n",
       "        vertical-align: top;\n",
       "    }\n",
       "\n",
       "    .dataframe thead th {\n",
       "        text-align: right;\n",
       "    }\n",
       "</style>\n",
       "<table border=\"1\" class=\"dataframe\">\n",
       "  <thead>\n",
       "    <tr style=\"text-align: right;\">\n",
       "      <th></th>\n",
       "      <th>shadow_quant_pets</th>\n",
       "      <th>shadow_faixa_salarial</th>\n",
       "      <th>shadow_idade</th>\n",
       "      <th>shadow_peso</th>\n",
       "      <th>shadow_altura_do_pai</th>\n",
       "    </tr>\n",
       "  </thead>\n",
       "  <tbody>\n",
       "    <tr>\n",
       "      <th>0</th>\n",
       "      <td>0</td>\n",
       "      <td>1000</td>\n",
       "      <td>30</td>\n",
       "      <td>86</td>\n",
       "      <td>1.68</td>\n",
       "    </tr>\n",
       "    <tr>\n",
       "      <th>1</th>\n",
       "      <td>0</td>\n",
       "      <td>2000</td>\n",
       "      <td>30</td>\n",
       "      <td>79</td>\n",
       "      <td>1.40</td>\n",
       "    </tr>\n",
       "    <tr>\n",
       "      <th>2</th>\n",
       "      <td>0</td>\n",
       "      <td>2500</td>\n",
       "      <td>52</td>\n",
       "      <td>87</td>\n",
       "      <td>1.72</td>\n",
       "    </tr>\n",
       "    <tr>\n",
       "      <th>3</th>\n",
       "      <td>0</td>\n",
       "      <td>2600</td>\n",
       "      <td>25</td>\n",
       "      <td>63</td>\n",
       "      <td>1.79</td>\n",
       "    </tr>\n",
       "    <tr>\n",
       "      <th>4</th>\n",
       "      <td>0</td>\n",
       "      <td>3000</td>\n",
       "      <td>39</td>\n",
       "      <td>74</td>\n",
       "      <td>1.70</td>\n",
       "    </tr>\n",
       "    <tr>\n",
       "      <th>5</th>\n",
       "      <td>1</td>\n",
       "      <td>3001</td>\n",
       "      <td>43</td>\n",
       "      <td>83</td>\n",
       "      <td>1.58</td>\n",
       "    </tr>\n",
       "    <tr>\n",
       "      <th>6</th>\n",
       "      <td>1</td>\n",
       "      <td>4001</td>\n",
       "      <td>48</td>\n",
       "      <td>76</td>\n",
       "      <td>1.74</td>\n",
       "    </tr>\n",
       "    <tr>\n",
       "      <th>7</th>\n",
       "      <td>1</td>\n",
       "      <td>4001</td>\n",
       "      <td>45</td>\n",
       "      <td>84</td>\n",
       "      <td>1.67</td>\n",
       "    </tr>\n",
       "    <tr>\n",
       "      <th>8</th>\n",
       "      <td>1</td>\n",
       "      <td>4001</td>\n",
       "      <td>43</td>\n",
       "      <td>76</td>\n",
       "      <td>1.57</td>\n",
       "    </tr>\n",
       "    <tr>\n",
       "      <th>9</th>\n",
       "      <td>1</td>\n",
       "      <td>4601</td>\n",
       "      <td>45</td>\n",
       "      <td>75</td>\n",
       "      <td>1.55</td>\n",
       "    </tr>\n",
       "    <tr>\n",
       "      <th>10</th>\n",
       "      <td>2</td>\n",
       "      <td>4502</td>\n",
       "      <td>60</td>\n",
       "      <td>85</td>\n",
       "      <td>1.69</td>\n",
       "    </tr>\n",
       "    <tr>\n",
       "      <th>11</th>\n",
       "      <td>1</td>\n",
       "      <td>6071</td>\n",
       "      <td>23</td>\n",
       "      <td>85</td>\n",
       "      <td>1.57</td>\n",
       "    </tr>\n",
       "    <tr>\n",
       "      <th>12</th>\n",
       "      <td>2</td>\n",
       "      <td>5002</td>\n",
       "      <td>20</td>\n",
       "      <td>78</td>\n",
       "      <td>1.58</td>\n",
       "    </tr>\n",
       "    <tr>\n",
       "      <th>13</th>\n",
       "      <td>1</td>\n",
       "      <td>3001</td>\n",
       "      <td>39</td>\n",
       "      <td>91</td>\n",
       "      <td>1.75</td>\n",
       "    </tr>\n",
       "    <tr>\n",
       "      <th>14</th>\n",
       "      <td>2</td>\n",
       "      <td>4002</td>\n",
       "      <td>40</td>\n",
       "      <td>76</td>\n",
       "      <td>1.72</td>\n",
       "    </tr>\n",
       "  </tbody>\n",
       "</table>\n",
       "</div>"
      ],
      "text/plain": [
       "    shadow_quant_pets  shadow_faixa_salarial  shadow_idade  shadow_peso  \\\n",
       "0                   0                   1000            30           86   \n",
       "1                   0                   2000            30           79   \n",
       "2                   0                   2500            52           87   \n",
       "3                   0                   2600            25           63   \n",
       "4                   0                   3000            39           74   \n",
       "5                   1                   3001            43           83   \n",
       "6                   1                   4001            48           76   \n",
       "7                   1                   4001            45           84   \n",
       "8                   1                   4001            43           76   \n",
       "9                   1                   4601            45           75   \n",
       "10                  2                   4502            60           85   \n",
       "11                  1                   6071            23           85   \n",
       "12                  2                   5002            20           78   \n",
       "13                  1                   3001            39           91   \n",
       "14                  2                   4002            40           76   \n",
       "\n",
       "    shadow_altura_do_pai  \n",
       "0                   1.68  \n",
       "1                   1.40  \n",
       "2                   1.72  \n",
       "3                   1.79  \n",
       "4                   1.70  \n",
       "5                   1.58  \n",
       "6                   1.74  \n",
       "7                   1.67  \n",
       "8                   1.57  \n",
       "9                   1.55  \n",
       "10                  1.69  \n",
       "11                  1.57  \n",
       "12                  1.58  \n",
       "13                  1.75  \n",
       "14                  1.72  "
      ]
     },
     "execution_count": 858,
     "metadata": {},
     "output_type": "execute_result"
    }
   ],
   "source": [
    "num_of_features = x.shape[1]\n",
    "x_shadow = x.copy()\n",
    "x_shadow.columns = ['shadow_' + col_name for col_name in x.columns]\n",
    "x_shadow"
   ]
  },
  {
   "cell_type": "markdown",
   "metadata": {},
   "source": [
    "## 2-) Embaralhamento das shadow features"
   ]
  },
  {
   "cell_type": "markdown",
   "metadata": {
    "ExecuteTime": {
     "end_time": "2021-02-19T20:47:33.797509Z",
     "start_time": "2021-02-19T20:47:33.792349Z"
    }
   },
   "source": [
    "Em cada shadow feature, realizamos um embaralhamento dos seus dados. Isso é <br>\n",
    "feito para remover a correlação entre a shadow feature e a variável resposta. "
   ]
  },
  {
   "cell_type": "code",
   "execution_count": 859,
   "metadata": {
    "ExecuteTime": {
     "end_time": "2021-02-20T15:05:45.415093Z",
     "start_time": "2021-02-20T15:05:45.386488Z"
    }
   },
   "outputs": [
    {
     "data": {
      "text/html": [
       "<div>\n",
       "<style scoped>\n",
       "    .dataframe tbody tr th:only-of-type {\n",
       "        vertical-align: middle;\n",
       "    }\n",
       "\n",
       "    .dataframe tbody tr th {\n",
       "        vertical-align: top;\n",
       "    }\n",
       "\n",
       "    .dataframe thead th {\n",
       "        text-align: right;\n",
       "    }\n",
       "</style>\n",
       "<table border=\"1\" class=\"dataframe\">\n",
       "  <thead>\n",
       "    <tr style=\"text-align: right;\">\n",
       "      <th></th>\n",
       "      <th>shadow_quant_pets</th>\n",
       "      <th>shadow_faixa_salarial</th>\n",
       "      <th>shadow_idade</th>\n",
       "      <th>shadow_peso</th>\n",
       "      <th>shadow_altura_do_pai</th>\n",
       "    </tr>\n",
       "  </thead>\n",
       "  <tbody>\n",
       "    <tr>\n",
       "      <th>0</th>\n",
       "      <td>2</td>\n",
       "      <td>2000</td>\n",
       "      <td>23</td>\n",
       "      <td>83</td>\n",
       "      <td>1.57</td>\n",
       "    </tr>\n",
       "    <tr>\n",
       "      <th>1</th>\n",
       "      <td>1</td>\n",
       "      <td>2500</td>\n",
       "      <td>40</td>\n",
       "      <td>91</td>\n",
       "      <td>1.57</td>\n",
       "    </tr>\n",
       "    <tr>\n",
       "      <th>2</th>\n",
       "      <td>1</td>\n",
       "      <td>4002</td>\n",
       "      <td>25</td>\n",
       "      <td>76</td>\n",
       "      <td>1.72</td>\n",
       "    </tr>\n",
       "    <tr>\n",
       "      <th>3</th>\n",
       "      <td>2</td>\n",
       "      <td>3001</td>\n",
       "      <td>30</td>\n",
       "      <td>75</td>\n",
       "      <td>1.72</td>\n",
       "    </tr>\n",
       "    <tr>\n",
       "      <th>4</th>\n",
       "      <td>1</td>\n",
       "      <td>4001</td>\n",
       "      <td>45</td>\n",
       "      <td>85</td>\n",
       "      <td>1.40</td>\n",
       "    </tr>\n",
       "    <tr>\n",
       "      <th>5</th>\n",
       "      <td>0</td>\n",
       "      <td>2600</td>\n",
       "      <td>43</td>\n",
       "      <td>74</td>\n",
       "      <td>1.69</td>\n",
       "    </tr>\n",
       "    <tr>\n",
       "      <th>6</th>\n",
       "      <td>0</td>\n",
       "      <td>4001</td>\n",
       "      <td>39</td>\n",
       "      <td>76</td>\n",
       "      <td>1.67</td>\n",
       "    </tr>\n",
       "    <tr>\n",
       "      <th>7</th>\n",
       "      <td>2</td>\n",
       "      <td>6071</td>\n",
       "      <td>30</td>\n",
       "      <td>84</td>\n",
       "      <td>1.70</td>\n",
       "    </tr>\n",
       "    <tr>\n",
       "      <th>8</th>\n",
       "      <td>0</td>\n",
       "      <td>3000</td>\n",
       "      <td>60</td>\n",
       "      <td>87</td>\n",
       "      <td>1.79</td>\n",
       "    </tr>\n",
       "    <tr>\n",
       "      <th>9</th>\n",
       "      <td>1</td>\n",
       "      <td>1000</td>\n",
       "      <td>20</td>\n",
       "      <td>78</td>\n",
       "      <td>1.74</td>\n",
       "    </tr>\n",
       "    <tr>\n",
       "      <th>10</th>\n",
       "      <td>1</td>\n",
       "      <td>4502</td>\n",
       "      <td>52</td>\n",
       "      <td>79</td>\n",
       "      <td>1.55</td>\n",
       "    </tr>\n",
       "    <tr>\n",
       "      <th>11</th>\n",
       "      <td>0</td>\n",
       "      <td>4001</td>\n",
       "      <td>39</td>\n",
       "      <td>76</td>\n",
       "      <td>1.58</td>\n",
       "    </tr>\n",
       "    <tr>\n",
       "      <th>12</th>\n",
       "      <td>0</td>\n",
       "      <td>4601</td>\n",
       "      <td>48</td>\n",
       "      <td>86</td>\n",
       "      <td>1.58</td>\n",
       "    </tr>\n",
       "    <tr>\n",
       "      <th>13</th>\n",
       "      <td>1</td>\n",
       "      <td>3001</td>\n",
       "      <td>43</td>\n",
       "      <td>63</td>\n",
       "      <td>1.68</td>\n",
       "    </tr>\n",
       "    <tr>\n",
       "      <th>14</th>\n",
       "      <td>1</td>\n",
       "      <td>5002</td>\n",
       "      <td>45</td>\n",
       "      <td>85</td>\n",
       "      <td>1.75</td>\n",
       "    </tr>\n",
       "  </tbody>\n",
       "</table>\n",
       "</div>"
      ],
      "text/plain": [
       "    shadow_quant_pets  shadow_faixa_salarial  shadow_idade  shadow_peso  \\\n",
       "0                   2                   2000            23           83   \n",
       "1                   1                   2500            40           91   \n",
       "2                   1                   4002            25           76   \n",
       "3                   2                   3001            30           75   \n",
       "4                   1                   4001            45           85   \n",
       "5                   0                   2600            43           74   \n",
       "6                   0                   4001            39           76   \n",
       "7                   2                   6071            30           84   \n",
       "8                   0                   3000            60           87   \n",
       "9                   1                   1000            20           78   \n",
       "10                  1                   4502            52           79   \n",
       "11                  0                   4001            39           76   \n",
       "12                  0                   4601            48           86   \n",
       "13                  1                   3001            43           63   \n",
       "14                  1                   5002            45           85   \n",
       "\n",
       "    shadow_altura_do_pai  \n",
       "0                   1.57  \n",
       "1                   1.57  \n",
       "2                   1.72  \n",
       "3                   1.72  \n",
       "4                   1.40  \n",
       "5                   1.69  \n",
       "6                   1.67  \n",
       "7                   1.70  \n",
       "8                   1.79  \n",
       "9                   1.74  \n",
       "10                  1.55  \n",
       "11                  1.58  \n",
       "12                  1.58  \n",
       "13                  1.68  \n",
       "14                  1.75  "
      ]
     },
     "execution_count": 859,
     "metadata": {},
     "output_type": "execute_result"
    }
   ],
   "source": [
    "np.random.seed(21)\n",
    "x_shadow = x_shadow.apply( lambda x: np.random.permutation(x) )\n",
    "x_shadow = x_shadow.reset_index()\n",
    "x_shadow.drop('index', axis=1, inplace=True)\n",
    "x_shadow"
   ]
  },
  {
   "cell_type": "markdown",
   "metadata": {
    "ExecuteTime": {
     "end_time": "2021-02-19T20:57:30.591901Z",
     "start_time": "2021-02-19T20:57:30.576198Z"
    }
   },
   "source": [
    "## 3-) Concatenação das features originais com as shadow features"
   ]
  },
  {
   "cell_type": "code",
   "execution_count": 860,
   "metadata": {
    "ExecuteTime": {
     "end_time": "2021-02-20T15:06:19.765381Z",
     "start_time": "2021-02-20T15:06:19.736452Z"
    }
   },
   "outputs": [
    {
     "data": {
      "text/html": [
       "<div>\n",
       "<style scoped>\n",
       "    .dataframe tbody tr th:only-of-type {\n",
       "        vertical-align: middle;\n",
       "    }\n",
       "\n",
       "    .dataframe tbody tr th {\n",
       "        vertical-align: top;\n",
       "    }\n",
       "\n",
       "    .dataframe thead th {\n",
       "        text-align: right;\n",
       "    }\n",
       "</style>\n",
       "<table border=\"1\" class=\"dataframe\">\n",
       "  <thead>\n",
       "    <tr style=\"text-align: right;\">\n",
       "      <th></th>\n",
       "      <th>quant_pets</th>\n",
       "      <th>faixa_salarial</th>\n",
       "      <th>idade</th>\n",
       "      <th>peso</th>\n",
       "      <th>altura_do_pai</th>\n",
       "      <th>shadow_quant_pets</th>\n",
       "      <th>shadow_faixa_salarial</th>\n",
       "      <th>shadow_idade</th>\n",
       "      <th>shadow_peso</th>\n",
       "      <th>shadow_altura_do_pai</th>\n",
       "    </tr>\n",
       "  </thead>\n",
       "  <tbody>\n",
       "    <tr>\n",
       "      <th>0</th>\n",
       "      <td>0</td>\n",
       "      <td>1000</td>\n",
       "      <td>30</td>\n",
       "      <td>86</td>\n",
       "      <td>1.68</td>\n",
       "      <td>2</td>\n",
       "      <td>2000</td>\n",
       "      <td>23</td>\n",
       "      <td>83</td>\n",
       "      <td>1.57</td>\n",
       "    </tr>\n",
       "    <tr>\n",
       "      <th>1</th>\n",
       "      <td>0</td>\n",
       "      <td>2000</td>\n",
       "      <td>30</td>\n",
       "      <td>79</td>\n",
       "      <td>1.40</td>\n",
       "      <td>1</td>\n",
       "      <td>2500</td>\n",
       "      <td>40</td>\n",
       "      <td>91</td>\n",
       "      <td>1.57</td>\n",
       "    </tr>\n",
       "    <tr>\n",
       "      <th>2</th>\n",
       "      <td>0</td>\n",
       "      <td>2500</td>\n",
       "      <td>52</td>\n",
       "      <td>87</td>\n",
       "      <td>1.72</td>\n",
       "      <td>1</td>\n",
       "      <td>4002</td>\n",
       "      <td>25</td>\n",
       "      <td>76</td>\n",
       "      <td>1.72</td>\n",
       "    </tr>\n",
       "    <tr>\n",
       "      <th>3</th>\n",
       "      <td>0</td>\n",
       "      <td>2600</td>\n",
       "      <td>25</td>\n",
       "      <td>63</td>\n",
       "      <td>1.79</td>\n",
       "      <td>2</td>\n",
       "      <td>3001</td>\n",
       "      <td>30</td>\n",
       "      <td>75</td>\n",
       "      <td>1.72</td>\n",
       "    </tr>\n",
       "    <tr>\n",
       "      <th>4</th>\n",
       "      <td>0</td>\n",
       "      <td>3000</td>\n",
       "      <td>39</td>\n",
       "      <td>74</td>\n",
       "      <td>1.70</td>\n",
       "      <td>1</td>\n",
       "      <td>4001</td>\n",
       "      <td>45</td>\n",
       "      <td>85</td>\n",
       "      <td>1.40</td>\n",
       "    </tr>\n",
       "    <tr>\n",
       "      <th>5</th>\n",
       "      <td>1</td>\n",
       "      <td>3001</td>\n",
       "      <td>43</td>\n",
       "      <td>83</td>\n",
       "      <td>1.58</td>\n",
       "      <td>0</td>\n",
       "      <td>2600</td>\n",
       "      <td>43</td>\n",
       "      <td>74</td>\n",
       "      <td>1.69</td>\n",
       "    </tr>\n",
       "    <tr>\n",
       "      <th>6</th>\n",
       "      <td>1</td>\n",
       "      <td>4001</td>\n",
       "      <td>48</td>\n",
       "      <td>76</td>\n",
       "      <td>1.74</td>\n",
       "      <td>0</td>\n",
       "      <td>4001</td>\n",
       "      <td>39</td>\n",
       "      <td>76</td>\n",
       "      <td>1.67</td>\n",
       "    </tr>\n",
       "    <tr>\n",
       "      <th>7</th>\n",
       "      <td>1</td>\n",
       "      <td>4001</td>\n",
       "      <td>45</td>\n",
       "      <td>84</td>\n",
       "      <td>1.67</td>\n",
       "      <td>2</td>\n",
       "      <td>6071</td>\n",
       "      <td>30</td>\n",
       "      <td>84</td>\n",
       "      <td>1.70</td>\n",
       "    </tr>\n",
       "    <tr>\n",
       "      <th>8</th>\n",
       "      <td>1</td>\n",
       "      <td>4001</td>\n",
       "      <td>43</td>\n",
       "      <td>76</td>\n",
       "      <td>1.57</td>\n",
       "      <td>0</td>\n",
       "      <td>3000</td>\n",
       "      <td>60</td>\n",
       "      <td>87</td>\n",
       "      <td>1.79</td>\n",
       "    </tr>\n",
       "    <tr>\n",
       "      <th>9</th>\n",
       "      <td>1</td>\n",
       "      <td>4601</td>\n",
       "      <td>45</td>\n",
       "      <td>75</td>\n",
       "      <td>1.55</td>\n",
       "      <td>1</td>\n",
       "      <td>1000</td>\n",
       "      <td>20</td>\n",
       "      <td>78</td>\n",
       "      <td>1.74</td>\n",
       "    </tr>\n",
       "    <tr>\n",
       "      <th>10</th>\n",
       "      <td>2</td>\n",
       "      <td>4502</td>\n",
       "      <td>60</td>\n",
       "      <td>85</td>\n",
       "      <td>1.69</td>\n",
       "      <td>1</td>\n",
       "      <td>4502</td>\n",
       "      <td>52</td>\n",
       "      <td>79</td>\n",
       "      <td>1.55</td>\n",
       "    </tr>\n",
       "    <tr>\n",
       "      <th>11</th>\n",
       "      <td>1</td>\n",
       "      <td>6071</td>\n",
       "      <td>23</td>\n",
       "      <td>85</td>\n",
       "      <td>1.57</td>\n",
       "      <td>0</td>\n",
       "      <td>4001</td>\n",
       "      <td>39</td>\n",
       "      <td>76</td>\n",
       "      <td>1.58</td>\n",
       "    </tr>\n",
       "    <tr>\n",
       "      <th>12</th>\n",
       "      <td>2</td>\n",
       "      <td>5002</td>\n",
       "      <td>20</td>\n",
       "      <td>78</td>\n",
       "      <td>1.58</td>\n",
       "      <td>0</td>\n",
       "      <td>4601</td>\n",
       "      <td>48</td>\n",
       "      <td>86</td>\n",
       "      <td>1.58</td>\n",
       "    </tr>\n",
       "    <tr>\n",
       "      <th>13</th>\n",
       "      <td>1</td>\n",
       "      <td>3001</td>\n",
       "      <td>39</td>\n",
       "      <td>91</td>\n",
       "      <td>1.75</td>\n",
       "      <td>1</td>\n",
       "      <td>3001</td>\n",
       "      <td>43</td>\n",
       "      <td>63</td>\n",
       "      <td>1.68</td>\n",
       "    </tr>\n",
       "    <tr>\n",
       "      <th>14</th>\n",
       "      <td>2</td>\n",
       "      <td>4002</td>\n",
       "      <td>40</td>\n",
       "      <td>76</td>\n",
       "      <td>1.72</td>\n",
       "      <td>1</td>\n",
       "      <td>5002</td>\n",
       "      <td>45</td>\n",
       "      <td>85</td>\n",
       "      <td>1.75</td>\n",
       "    </tr>\n",
       "  </tbody>\n",
       "</table>\n",
       "</div>"
      ],
      "text/plain": [
       "    quant_pets  faixa_salarial  idade  peso  altura_do_pai  shadow_quant_pets  \\\n",
       "0            0            1000     30    86           1.68                  2   \n",
       "1            0            2000     30    79           1.40                  1   \n",
       "2            0            2500     52    87           1.72                  1   \n",
       "3            0            2600     25    63           1.79                  2   \n",
       "4            0            3000     39    74           1.70                  1   \n",
       "5            1            3001     43    83           1.58                  0   \n",
       "6            1            4001     48    76           1.74                  0   \n",
       "7            1            4001     45    84           1.67                  2   \n",
       "8            1            4001     43    76           1.57                  0   \n",
       "9            1            4601     45    75           1.55                  1   \n",
       "10           2            4502     60    85           1.69                  1   \n",
       "11           1            6071     23    85           1.57                  0   \n",
       "12           2            5002     20    78           1.58                  0   \n",
       "13           1            3001     39    91           1.75                  1   \n",
       "14           2            4002     40    76           1.72                  1   \n",
       "\n",
       "    shadow_faixa_salarial  shadow_idade  shadow_peso  shadow_altura_do_pai  \n",
       "0                    2000            23           83                  1.57  \n",
       "1                    2500            40           91                  1.57  \n",
       "2                    4002            25           76                  1.72  \n",
       "3                    3001            30           75                  1.72  \n",
       "4                    4001            45           85                  1.40  \n",
       "5                    2600            43           74                  1.69  \n",
       "6                    4001            39           76                  1.67  \n",
       "7                    6071            30           84                  1.70  \n",
       "8                    3000            60           87                  1.79  \n",
       "9                    1000            20           78                  1.74  \n",
       "10                   4502            52           79                  1.55  \n",
       "11                   4001            39           76                  1.58  \n",
       "12                   4601            48           86                  1.58  \n",
       "13                   3001            43           63                  1.68  \n",
       "14                   5002            45           85                  1.75  "
      ]
     },
     "execution_count": 860,
     "metadata": {},
     "output_type": "execute_result"
    }
   ],
   "source": [
    "x_merged = pd.concat( [x, x_shadow], axis=1 )\n",
    "x_merged"
   ]
  },
  {
   "cell_type": "markdown",
   "metadata": {},
   "source": [
    "## 4-) Treinamento do modelo com o novo conjunto de dados (features originais + shadow features)"
   ]
  },
  {
   "cell_type": "markdown",
   "metadata": {},
   "source": [
    "Será usado o algoritmo Random Forest para treinar o modelo, pois este algoritmo calcula <br>\n",
    "a importância das features durante o seu treinamento, esse cálculo é baseado no método de Gini.\n"
   ]
  },
  {
   "cell_type": "code",
   "execution_count": 413,
   "metadata": {
    "ExecuteTime": {
     "end_time": "2021-02-19T21:41:44.871462Z",
     "start_time": "2021-02-19T21:41:44.701001Z"
    }
   },
   "outputs": [
    {
     "data": {
      "text/plain": [
       "RandomForestClassifier(max_depth=3, random_state=42)"
      ]
     },
     "execution_count": 413,
     "metadata": {},
     "output_type": "execute_result"
    }
   ],
   "source": [
    "rf = RandomForestClassifier(random_state=42, max_depth=3)\n",
    "rf.fit( x_merged, y )"
   ]
  },
  {
   "cell_type": "code",
   "execution_count": null,
   "metadata": {
    "ExecuteTime": {
     "end_time": "2021-02-19T21:38:42.075549Z",
     "start_time": "2021-02-19T21:38:42.021361Z"
    }
   },
   "outputs": [],
   "source": [
    "rf.feature_importances_"
   ]
  },
  {
   "cell_type": "code",
   "execution_count": 862,
   "metadata": {
    "ExecuteTime": {
     "end_time": "2021-02-20T15:08:08.820442Z",
     "start_time": "2021-02-20T15:08:08.777587Z"
    },
    "hide_input": true
   },
   "outputs": [
    {
     "data": {
      "text/html": [
       "<div>\n",
       "<style scoped>\n",
       "    .dataframe tbody tr th:only-of-type {\n",
       "        vertical-align: middle;\n",
       "    }\n",
       "\n",
       "    .dataframe tbody tr th {\n",
       "        vertical-align: top;\n",
       "    }\n",
       "\n",
       "    .dataframe thead th {\n",
       "        text-align: right;\n",
       "    }\n",
       "</style>\n",
       "<table border=\"1\" class=\"dataframe\">\n",
       "  <thead>\n",
       "    <tr style=\"text-align: right;\">\n",
       "      <th></th>\n",
       "      <th>quant_pets</th>\n",
       "      <th>faixa_salarial</th>\n",
       "      <th>idade</th>\n",
       "      <th>peso</th>\n",
       "      <th>altura_do_pai</th>\n",
       "      <th>shadow_quant_pets</th>\n",
       "      <th>shadow_faixa_salarial</th>\n",
       "      <th>shadow_idade</th>\n",
       "      <th>shadow_peso</th>\n",
       "      <th>shadow_altura_do_pai</th>\n",
       "    </tr>\n",
       "  </thead>\n",
       "  <tbody>\n",
       "    <tr>\n",
       "      <th>0</th>\n",
       "      <td>0.10343</td>\n",
       "      <td>0.353913</td>\n",
       "      <td>0.067622</td>\n",
       "      <td>0.045149</td>\n",
       "      <td>0.060671</td>\n",
       "      <td>0.036896</td>\n",
       "      <td>0.126197</td>\n",
       "      <td>0.050674</td>\n",
       "      <td>0.099266</td>\n",
       "      <td>0.056181</td>\n",
       "    </tr>\n",
       "  </tbody>\n",
       "</table>\n",
       "</div>"
      ],
      "text/plain": [
       "   quant_pets  faixa_salarial     idade      peso  altura_do_pai  \\\n",
       "0     0.10343        0.353913  0.067622  0.045149       0.060671   \n",
       "\n",
       "   shadow_quant_pets  shadow_faixa_salarial  shadow_idade  shadow_peso  \\\n",
       "0           0.036896               0.126197      0.050674     0.099266   \n",
       "\n",
       "   shadow_altura_do_pai  \n",
       "0              0.056181  "
      ]
     },
     "execution_count": 862,
     "metadata": {},
     "output_type": "execute_result"
    }
   ],
   "source": [
    "importance_table = pd.DataFrame([rf.feature_importances_], columns=x_merged.columns)\n",
    "importance_table"
   ]
  },
  {
   "cell_type": "markdown",
   "metadata": {},
   "source": [
    "### Vamos obter a maior importância dentre as shadow features "
   ]
  },
  {
   "cell_type": "code",
   "execution_count": 864,
   "metadata": {
    "ExecuteTime": {
     "end_time": "2021-02-20T15:09:45.326302Z",
     "start_time": "2021-02-20T15:09:45.287506Z"
    },
    "hide_input": true
   },
   "outputs": [
    {
     "name": "stdout",
     "output_type": "stream",
     "text": [
      "O maior valor de importância dado a uma shadow feature foi: 0.1262\n"
     ]
    }
   ],
   "source": [
    "imp_feature_list = rf.feature_importances_\n",
    "imp_original_feature_list = imp_feature_list[:len(x.columns)]\n",
    "imp_shadow_feature_list = imp_feature_list[len(x.columns):]\n",
    "print('O maior valor de importância dado a uma shadow feature foi: ' + str(np.round( imp_shadow_feature_list.max(), 4) ))"
   ]
  },
  {
   "cell_type": "markdown",
   "metadata": {},
   "source": [
    "## 4-) Avaliação da importância das features originais com as shadow features"
   ]
  },
  {
   "cell_type": "markdown",
   "metadata": {},
   "source": [
    "Se a feature original apresentar importância maior que a maior importância das shadow features, ela teve um sucesso.\n",
    "\n",
    "Caso contrário, ela teve um fracasso."
   ]
  },
  {
   "cell_type": "code",
   "execution_count": 511,
   "metadata": {
    "ExecuteTime": {
     "end_time": "2021-02-19T22:23:28.581172Z",
     "start_time": "2021-02-19T22:23:28.565756Z"
    }
   },
   "outputs": [
    {
     "data": {
      "text/plain": [
       "array([0, 1, 0, 0, 0])"
      ]
     },
     "execution_count": 511,
     "metadata": {},
     "output_type": "execute_result"
    }
   ],
   "source": [
    "sucess_table = ( imp_original_feature_list > imp_shadow_feature_list.max() ).astype(int)\n",
    "sucess_table"
   ]
  },
  {
   "cell_type": "markdown",
   "metadata": {},
   "source": [
    "## LOOP - repetição dos processos 2, 3 e 4"
   ]
  },
  {
   "cell_type": "markdown",
   "metadata": {
    "ExecuteTime": {
     "end_time": "2021-02-19T22:28:42.306246Z",
     "start_time": "2021-02-19T22:28:42.300114Z"
    }
   },
   "source": [
    "Para obter uma melhor precisão acerca da importância fornecida pelo algoritmo Random Forest,<br>\n",
    "repetimos o processo por 20 vezes, sempre marcando os pontos."
   ]
  },
  {
   "cell_type": "markdown",
   "metadata": {},
   "source": [
    "## Algoritmo Completo"
   ]
  },
  {
   "cell_type": "code",
   "execution_count": 924,
   "metadata": {
    "ExecuteTime": {
     "end_time": "2021-02-20T15:23:52.813459Z",
     "start_time": "2021-02-20T15:23:52.779013Z"
    }
   },
   "outputs": [],
   "source": [
    "class borutaAlgorithm:\n",
    "    \n",
    "    def __init__(self, max_steps, x, y):\n",
    "        self.max_steps = max_steps\n",
    "        self.x = x\n",
    "        self.y = y\n",
    "        self.num_of_features = x.shape[1]\n",
    "        self.seed = 21\n",
    "        np.random.seed( self.seed )\n",
    "    \n",
    "    def creatingShadowFeatures(self, x):\n",
    "        x_shadow = x.copy()\n",
    "        x_shadow.columns = ['shadow_' + col_name for col_name in x.columns]      \n",
    "        return x_shadow\n",
    "        \n",
    "    def shufflingShadowFeatures(self, x_merged ):\n",
    "        x_merged.iloc[:, self.num_of_features:] = x_merged.iloc[:, self.num_of_features:].apply( lambda x: np.random.permutation(x), axis=0 )\n",
    "        return x_merged\n",
    "    \n",
    "    def mergeOriginalAndShadowFeatures( self, x, x_shadow ):\n",
    "        return pd.concat( [x, x_shadow], axis=1 )\n",
    "            \n",
    "    def training(self, x_merged, y, sucess_table):\n",
    "        rf = RandomForestClassifier(random_state=42, max_depth=3)\n",
    "        rf.fit( x_merged, y )\n",
    "        imp_feature_list = rf.feature_importances_\n",
    "        imp_original_feature_list = imp_feature_list[:len(x.columns)]\n",
    "        imp_shadow_feature_list = imp_feature_list[len(x.columns):]\n",
    "        #print(rf.feature_importances_)\n",
    "        sucess_table = sucess_table + ( imp_original_feature_list > imp_shadow_feature_list.max() ).astype(int)\n",
    "\n",
    "        return sucess_table\n",
    "    \n",
    "    def findBestFeatures(self):\n",
    "        # creation of shadow features\n",
    "        shadow_features = self.creatingShadowFeatures( self.x )\n",
    "        # merge with the original features\n",
    "        merged_data = self.mergeOriginalAndShadowFeatures( self.x, shadow_features )\n",
    "        # creation of sucess_table, initially all zeros\n",
    "        sucess_table = np.zeros((self.num_of_features,))\n",
    "        \n",
    "        for i in range( self.max_steps ):\n",
    "            print('Step ' + str(i+1), end='\\n')\n",
    "            # shuffling the shadow features\n",
    "            merged_data = self.shufflingShadowFeatures( merged_data )\n",
    "            sucess_table = self.training( merged_data, self.y, sucess_table )\n",
    "            \n",
    "        return sucess_table"
   ]
  },
  {
   "cell_type": "code",
   "execution_count": 925,
   "metadata": {
    "ExecuteTime": {
     "end_time": "2021-02-20T15:23:55.787200Z",
     "start_time": "2021-02-20T15:23:53.003896Z"
    }
   },
   "outputs": [
    {
     "name": "stdout",
     "output_type": "stream",
     "text": [
      "Step 1\n",
      "Step 2\n",
      "Step 3\n",
      "Step 4\n",
      "Step 5\n",
      "Step 6\n",
      "Step 7\n",
      "Step 8\n",
      "Step 9\n",
      "Step 10\n",
      "Step 11\n",
      "Step 12\n",
      "Step 13\n",
      "Step 14\n",
      "Step 15\n",
      "Step 16\n",
      "Step 17\n",
      "Step 18\n",
      "Step 19\n",
      "Step 20\n",
      "[19. 20.  3. 11.  0.]\n"
     ]
    },
    {
     "data": {
      "text/html": [
       "<div>\n",
       "<style scoped>\n",
       "    .dataframe tbody tr th:only-of-type {\n",
       "        vertical-align: middle;\n",
       "    }\n",
       "\n",
       "    .dataframe tbody tr th {\n",
       "        vertical-align: top;\n",
       "    }\n",
       "\n",
       "    .dataframe thead tr th {\n",
       "        text-align: left;\n",
       "    }\n",
       "</style>\n",
       "<table border=\"1\" class=\"dataframe\">\n",
       "  <thead>\n",
       "    <tr>\n",
       "      <th></th>\n",
       "      <th>quant_pets</th>\n",
       "      <th>faixa_salarial</th>\n",
       "      <th>idade</th>\n",
       "      <th>peso</th>\n",
       "      <th>altura_do_pai</th>\n",
       "    </tr>\n",
       "  </thead>\n",
       "  <tbody>\n",
       "    <tr>\n",
       "      <th>0</th>\n",
       "      <td>19.0</td>\n",
       "      <td>20.0</td>\n",
       "      <td>3.0</td>\n",
       "      <td>11.0</td>\n",
       "      <td>0.0</td>\n",
       "    </tr>\n",
       "  </tbody>\n",
       "</table>\n",
       "</div>"
      ],
      "text/plain": [
       "  quant_pets faixa_salarial idade  peso altura_do_pai\n",
       "0       19.0           20.0   3.0  11.0           0.0"
      ]
     },
     "execution_count": 925,
     "metadata": {},
     "output_type": "execute_result"
    }
   ],
   "source": [
    "boruta = borutaAlgorithm(max_steps=20, x = x, y = y)\n",
    "list_of_sucess = boruta.findBestFeatures()\n",
    "print(list_of_sucess)\n",
    "list_of_sucess = list_of_sucess.reshape((1,5))\n",
    "\n",
    "df_of_sucess = pd.DataFrame(list_of_sucess, columns=[x.columns])\n",
    "df_of_sucess"
   ]
  },
  {
   "cell_type": "markdown",
   "metadata": {},
   "source": [
    "# 5-) Decisão de manter ou excluir as features"
   ]
  },
  {
   "cell_type": "markdown",
   "metadata": {},
   "source": [
    "Em cada iteração cada feature poderia ter ganhado das features shadow ou perdido para elas. Vamos supor <br>\n",
    "que nós não temos nenhum conhecimento prévio acerca das features, logo há uma chance de 50% dela ganhar e 50% <br>\n",
    "de perder.\n",
    "\n",
    "Se a feature é de fato relevante ela irá ganhar com mais frequência, pois as features shadow são arbitrárias e sem <br>\n",
    "correlação com a variável resposta.\n",
    "\n",
    "Como nesse experimento só há duas possibilidades: ganhar ou perder, ele recebe o nome de Ensaio de Bernoulli, <br>\n",
    "porém iteramos 20 vezes, ou seja, foram feitos 20 Ensaios de Bernoulli sucessivos, isso caracteriza a <br>\n",
    "distribuição binomial.\n",
    "\n",
    "Uma distribuição binomial com n=20 e p=0.5 possui a seguinte cara:"
   ]
  },
  {
   "cell_type": "code",
   "execution_count": 947,
   "metadata": {
    "ExecuteTime": {
     "end_time": "2021-02-20T16:44:46.112731Z",
     "start_time": "2021-02-20T16:44:45.816674Z"
    },
    "hide_input": false
   },
   "outputs": [
    {
     "data": {
      "image/png": "[encoded data removed]",
      "text/plain": [
       "<Figure size 864x432 with 1 Axes>"
      ]
     },
     "metadata": {
      "needs_background": "light"
     },
     "output_type": "display_data"
    }
   ],
   "source": [
    "n = 20\n",
    "p = 0.5\n",
    "\n",
    "binomial_values = list( np.arange(n+1) )\n",
    "dist = [ binom.pmf(val, n, p) for val in binomial_values]\n",
    "\n",
    "plt.figure(figsize=(12,6))\n",
    "plt.title('Distribuição Binomial n=20 p=0.5')\n",
    "plt.xlabel('Número de sucessos (x)')\n",
    "plt.ylabel('P(x)')\n",
    "plt.vlines(16,0,0.2, color='red')\n",
    "sns.barplot(binomial_values, dist);"
   ]
  },
  {
   "cell_type": "markdown",
   "metadata": {
    "hide_input": true
   },
   "source": [
    "Sendo X ~ Bin(n,p) uma variável aleatória que representa o número de sucessos obtidos\n",
    "\n",
    "**P(X <= 3) = 0.001288 < 0,5%**\n",
    "\n",
    "**P(X >= 17) = 0.001288 < 0,5%**"
   ]
  },
  {
   "cell_type": "code",
   "execution_count": 928,
   "metadata": {
    "ExecuteTime": {
     "end_time": "2021-02-20T15:35:53.432276Z",
     "start_time": "2021-02-20T15:35:53.402527Z"
    },
    "hide_input": true
   },
   "outputs": [
    {
     "data": {
      "text/html": [
       "<div>\n",
       "<style scoped>\n",
       "    .dataframe tbody tr th:only-of-type {\n",
       "        vertical-align: middle;\n",
       "    }\n",
       "\n",
       "    .dataframe tbody tr th {\n",
       "        vertical-align: top;\n",
       "    }\n",
       "\n",
       "    .dataframe thead tr th {\n",
       "        text-align: left;\n",
       "    }\n",
       "</style>\n",
       "<table border=\"1\" class=\"dataframe\">\n",
       "  <thead>\n",
       "    <tr>\n",
       "      <th></th>\n",
       "      <th>quant_pets</th>\n",
       "      <th>faixa_salarial</th>\n",
       "      <th>idade</th>\n",
       "      <th>peso</th>\n",
       "      <th>altura_do_pai</th>\n",
       "    </tr>\n",
       "  </thead>\n",
       "  <tbody>\n",
       "    <tr>\n",
       "      <th>0</th>\n",
       "      <td>19.0</td>\n",
       "      <td>20.0</td>\n",
       "      <td>3.0</td>\n",
       "      <td>11.0</td>\n",
       "      <td>0.0</td>\n",
       "    </tr>\n",
       "  </tbody>\n",
       "</table>\n",
       "</div>"
      ],
      "text/plain": [
       "  quant_pets faixa_salarial idade  peso altura_do_pai\n",
       "0       19.0           20.0   3.0  11.0           0.0"
      ]
     },
     "execution_count": 928,
     "metadata": {},
     "output_type": "execute_result"
    }
   ],
   "source": [
    "df_of_sucess"
   ]
  },
  {
   "cell_type": "code",
   "execution_count": null,
   "metadata": {
    "ExecuteTime": {
     "end_time": "2021-02-20T15:36:45.520254Z",
     "start_time": "2021-02-20T15:36:45.504536Z"
    },
    "hide_input": true
   },
   "outputs": [],
   "source": [
    "prob = 0\n",
    "for i in range(4):\n",
    "    prob = prob + dist[i]\n",
    "prob"
   ]
  },
  {
   "cell_type": "markdown",
   "metadata": {},
   "source": [
    "# Teste de Hipótese"
   ]
  },
  {
   "cell_type": "markdown",
   "metadata": {},
   "source": [
    "Vamos realizar um teste de hipótese de uma calda, utilizando **pvalor = 0.005**\n",
    "\n",
    "**H0: A feature quant_pets não apresenta relevância para o modelo (p <= 0.5)**\n",
    "\n",
    "**H1: A feature quant_pets apresenta relevância para o modelo (p > 0.5)**\n",
    "\n",
    "A região crítica, que neste exemplo contém 0,5% dos dados, possui seu início em x=16 e estende-se até\n",
    "x=20."
   ]
  },
  {
   "cell_type": "markdown",
   "metadata": {
    "ExecuteTime": {
     "end_time": "2021-02-20T00:57:07.782667Z",
     "start_time": "2021-02-20T00:57:07.777954Z"
    }
   },
   "source": [
    "Como a feature quant_pets apresentou 19 sucessos, ela está localizada na região crítica, e portanto <br>\n",
    "há evidência para rejeitarmos H0, ou seja, há evidência para considerarmos a feature quant_pets como <br>\n",
    "relevante para o modelo, dizemos isso com um intervalo de confiança de 99,5%."
   ]
  },
  {
   "cell_type": "markdown",
   "metadata": {},
   "source": [
    "# Conclusão"
   ]
  },
  {
   "cell_type": "markdown",
   "metadata": {},
   "source": [
    "As Features consideradas **RELEVANTES** são: **quant_pets** e **faixa_salarial**\n",
    "\n",
    "As Features consideradas **NÃO RELEVANTES** são: **idade** e **altura_do_pai**"
   ]
  },
  {
   "cell_type": "markdown",
   "metadata": {},
   "source": [
    "# Bibliografia"
   ]
  },
  {
   "cell_type": "markdown",
   "metadata": {},
   "source": [
    "Package 'Boruta' (R) - https://cran.r-project.org/web/packages/Boruta/Boruta.pdf\n",
    " \n",
    "Boruta (Python) - https://pypi.org/project/Boruta/\n",
    "\n",
    "An introduction to feature selection - https://machinelearningmastery.com/an-introduction-to-feature-selection/\n",
    " \n",
    "Boruta Explained Exactly How You Wished Someone Explained to You - https://towardsdatascience.com/boruta-explained-the-way-i-wish-someone-explained-it-to-me-4489d70e154a\n",
    "\n",
    "Gini Impurity in decision tree - https://www.geeksforgeeks.org/gini-impurity-and-entropy-in-decision-tree-ml/"
   ]
  }
 ],
 "metadata": {
  "kernelspec": {
   "display_name": "Python 3",
   "language": "python",
   "name": "python3"
  },
  "language_info": {
   "codemirror_mode": {
    "name": "ipython",
    "version": 3
   },
   "file_extension": ".py",
   "mimetype": "text/x-python",
   "name": "python",
   "nbconvert_exporter": "python",
   "pygments_lexer": "ipython3",
   "version": "3.6.9"
  }
 },
 "nbformat": 4,
 "nbformat_minor": 4
}
